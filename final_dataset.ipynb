{
  "nbformat": 4,
  "nbformat_minor": 0,
  "metadata": {
    "colab": {
      "name": "final_dataset.ipynb",
      "provenance": [],
      "collapsed_sections": [],
      "machine_shape": "hm",
      "mount_file_id": "13w5_msQR1JZvcj5oJcW-KOfj2VqV6RA9",
      "authorship_tag": "ABX9TyN5Uj8gYH6CWJHXxM2x57ra",
      "include_colab_link": true
    },
    "kernelspec": {
      "name": "python3",
      "display_name": "Python 3"
    },
    "language_info": {
      "name": "python"
    },
    "accelerator": "TPU"
  },
  "cells": [
    {
      "cell_type": "markdown",
      "metadata": {
        "id": "view-in-github",
        "colab_type": "text"
      },
      "source": [
        "<a href=\"https://colab.research.google.com/github/heejvely/second-projecct/blob/main/final_dataset.ipynb\" target=\"_parent\"><img src=\"https://colab.research.google.com/assets/colab-badge.svg\" alt=\"Open In Colab\"/></a>"
      ]
    },
    {
      "cell_type": "code",
      "metadata": {
        "colab": {
          "base_uri": "https://localhost:8080/",
          "height": 204
        },
        "id": "C4_lXofdwbaU",
        "outputId": "28f82a76-bf96-4b53-c3d0-051f5137efef"
      },
      "source": [
        "import pandas as pd\n",
        "data = pd.read_csv('/content/drive/MyDrive/2차 의도분류/kobert 실습/real_review.csv',encoding='cp949')\n",
        "data.head()"
      ],
      "execution_count": 2,
      "outputs": [
        {
          "output_type": "execute_result",
          "data": {
            "text/html": [
              "<div>\n",
              "<style scoped>\n",
              "    .dataframe tbody tr th:only-of-type {\n",
              "        vertical-align: middle;\n",
              "    }\n",
              "\n",
              "    .dataframe tbody tr th {\n",
              "        vertical-align: top;\n",
              "    }\n",
              "\n",
              "    .dataframe thead th {\n",
              "        text-align: right;\n",
              "    }\n",
              "</style>\n",
              "<table border=\"1\" class=\"dataframe\">\n",
              "  <thead>\n",
              "    <tr style=\"text-align: right;\">\n",
              "      <th></th>\n",
              "      <th>label</th>\n",
              "      <th>comment</th>\n",
              "    </tr>\n",
              "  </thead>\n",
              "  <tbody>\n",
              "    <tr>\n",
              "      <th>0</th>\n",
              "      <td>0</td>\n",
              "      <td>돈주고 올라갈만한 전망대는 아니였어요.....돈이 너무 아까워요...ㅎ</td>\n",
              "    </tr>\n",
              "    <tr>\n",
              "      <th>1</th>\n",
              "      <td>0</td>\n",
              "      <td>야경이 선명하게 보이진 않네요</td>\n",
              "    </tr>\n",
              "    <tr>\n",
              "      <th>2</th>\n",
              "      <td>0</td>\n",
              "      <td>너무 비싸고 신발벗는곳이 있어서 발냄새가 남</td>\n",
              "    </tr>\n",
              "    <tr>\n",
              "      <th>3</th>\n",
              "      <td>0</td>\n",
              "      <td>야외임에도 사람이 너무 많아서 답답함</td>\n",
              "    </tr>\n",
              "    <tr>\n",
              "      <th>4</th>\n",
              "      <td>0</td>\n",
              "      <td>정리가안된 인테리어 어수선한 홀분위</td>\n",
              "    </tr>\n",
              "  </tbody>\n",
              "</table>\n",
              "</div>"
            ],
            "text/plain": [
              "   label                                  comment\n",
              "0      0  돈주고 올라갈만한 전망대는 아니였어요.....돈이 너무 아까워요...ㅎ\n",
              "1      0                         야경이 선명하게 보이진 않네요\n",
              "2      0                 너무 비싸고 신발벗는곳이 있어서 발냄새가 남\n",
              "3      0                     야외임에도 사람이 너무 많아서 답답함\n",
              "4      0                      정리가안된 인테리어 어수선한 홀분위"
            ]
          },
          "metadata": {},
          "execution_count": 2
        }
      ]
    },
    {
      "cell_type": "code",
      "metadata": {
        "colab": {
          "base_uri": "https://localhost:8080/",
          "height": 49
        },
        "id": "FJvRCIU756ul",
        "outputId": "0dc0e93f-6789-4847-949f-dccd37ba145c"
      },
      "source": [
        "# 개행 확인\n",
        "\n",
        "data[data.comment.str.contains('\\n')]"
      ],
      "execution_count": 5,
      "outputs": [
        {
          "output_type": "execute_result",
          "data": {
            "text/html": [
              "<div>\n",
              "<style scoped>\n",
              "    .dataframe tbody tr th:only-of-type {\n",
              "        vertical-align: middle;\n",
              "    }\n",
              "\n",
              "    .dataframe tbody tr th {\n",
              "        vertical-align: top;\n",
              "    }\n",
              "\n",
              "    .dataframe thead th {\n",
              "        text-align: right;\n",
              "    }\n",
              "</style>\n",
              "<table border=\"1\" class=\"dataframe\">\n",
              "  <thead>\n",
              "    <tr style=\"text-align: right;\">\n",
              "      <th></th>\n",
              "      <th>label</th>\n",
              "      <th>comment</th>\n",
              "    </tr>\n",
              "  </thead>\n",
              "  <tbody>\n",
              "  </tbody>\n",
              "</table>\n",
              "</div>"
            ],
            "text/plain": [
              "Empty DataFrame\n",
              "Columns: [label, comment]\n",
              "Index: []"
            ]
          },
          "metadata": {},
          "execution_count": 5
        }
      ]
    },
    {
      "cell_type": "code",
      "metadata": {
        "id": "g0teEPz46A5a"
      },
      "source": [
        "# 개행 없애기\n",
        "\n",
        "data['comment'] = data.comment.replace('\\n',' ',regex=True)"
      ],
      "execution_count": 4,
      "outputs": []
    },
    {
      "cell_type": "code",
      "metadata": {
        "id": "ymx7zS-lIfcR"
      },
      "source": [
        "# 각 레이블별 분리\n",
        "\n",
        "pos = data[data['label']==2]\n",
        "neu = data[data['label']==1]\n",
        "neg = data[data['label']==0]"
      ],
      "execution_count": 6,
      "outputs": []
    },
    {
      "cell_type": "code",
      "metadata": {
        "colab": {
          "base_uri": "https://localhost:8080/"
        },
        "id": "7vKPtwk7IoPz",
        "outputId": "91c4edf1-ecb1-43ca-eb56-5886d775c2b7"
      },
      "source": [
        "# 각 레이블 갯수 파악\n",
        "\n",
        "print(pos.shape)\n",
        "print(neu.shape)\n",
        "print(neg.shape)"
      ],
      "execution_count": 7,
      "outputs": [
        {
          "output_type": "stream",
          "name": "stdout",
          "text": [
            "(4844, 2)\n",
            "(4027, 2)\n",
            "(5010, 2)\n"
          ]
        }
      ]
    },
    {
      "cell_type": "code",
      "metadata": {
        "id": "BLzkfzYVIrAe"
      },
      "source": [
        "# 각 행 겹치지 않게 shuffle\n",
        "\n",
        "import sklearn\n",
        "\n",
        "pos = sklearn.utils.shuffle(pos)\n",
        "neu = sklearn.utils.shuffle(neu)\n",
        "neg = sklearn.utils.shuffle(neg)"
      ],
      "execution_count": 8,
      "outputs": []
    },
    {
      "cell_type": "code",
      "metadata": {
        "id": "9c7XOTVQxLsT"
      },
      "source": [
        "# train, validation, test set 구축\n",
        "\n",
        "neg_train = neg[:3200]\n",
        "neg_valid = neg[3200:3600]\n",
        "neg_test = neg[3600:4000]\n",
        "\n",
        "neu_train = neu[:3200]\n",
        "neu_valid = neu[3200:3600]\n",
        "neu_test = neu[3600:4000]\n",
        "\n",
        "pos_train = pos[:3200]\n",
        "pos_valid = pos[3200:3600]\n",
        "pos_test = pos[3600:4000]"
      ],
      "execution_count": 9,
      "outputs": []
    },
    {
      "cell_type": "code",
      "metadata": {
        "id": "MjFbqsqqzkCB"
      },
      "source": [
        "# data set 합치기\n",
        "\n",
        "train = pd.concat([neg_train, neu_train,pos_train],ignore_index=True)\n",
        "valid = pd.concat([neg_valid, neu_valid,pos_valid],ignore_index=True)\n",
        "test = pd.concat([neg_test, neu_test,pos_test],ignore_index=True)"
      ],
      "execution_count": 10,
      "outputs": []
    },
    {
      "cell_type": "code",
      "metadata": {
        "id": "lNNWVRXJ0WxQ"
      },
      "source": [
        "# txt file로 저장\n",
        "\n",
        "train.to_csv('/content/drive/MyDrive/2차 의도분류/kobert 실습/real_train.txt',sep='\\t',header=False,index=False)\n",
        "valid.to_csv('/content/drive/MyDrive/2차 의도분류/kobert 실습/real_validation.txt',sep='\\t',header=False,index=False)\n",
        "test.to_csv('/content/drive/MyDrive/2차 의도분류/kobert 실습/real_test.txt',sep='\\t',header=False,index=False)"
      ],
      "execution_count": 11,
      "outputs": []
    }
  ]
}