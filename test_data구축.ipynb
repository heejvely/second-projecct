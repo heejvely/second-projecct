{
  "nbformat": 4,
  "nbformat_minor": 0,
  "metadata": {
    "colab": {
      "name": "test_data구축.ipynb",
      "provenance": [],
      "machine_shape": "hm",
      "mount_file_id": "1aAK8QaPiVNQhEHRQREKoggl2W84OuNpC",
      "authorship_tag": "ABX9TyOR9g5foRzUawhovV8/UXuZ",
      "include_colab_link": true
    },
    "kernelspec": {
      "name": "python3",
      "display_name": "Python 3"
    },
    "language_info": {
      "name": "python"
    },
    "accelerator": "TPU"
  },
  "cells": [
    {
      "cell_type": "markdown",
      "metadata": {
        "id": "view-in-github",
        "colab_type": "text"
      },
      "source": [
        "<a href=\"https://colab.research.google.com/github/heejvely/second-projecct/blob/main/test_data%EA%B5%AC%EC%B6%95.ipynb\" target=\"_parent\"><img src=\"https://colab.research.google.com/assets/colab-badge.svg\" alt=\"Open In Colab\"/></a>"
      ]
    },
    {
      "cell_type": "code",
      "metadata": {
        "colab": {
          "base_uri": "https://localhost:8080/",
          "height": 419
        },
        "id": "Pqv1jGdia02v",
        "outputId": "b920f775-e4e6-4afa-cc5b-8ce811d11ad7"
      },
      "source": [
        "import pandas as pd\n",
        "\n",
        "data = pd.read_csv('/content/drive/MyDrive/2차 의도분류/origin_dataframe/test_data.csv',encoding='cp949')\n",
        "data"
      ],
      "execution_count": 4,
      "outputs": [
        {
          "output_type": "execute_result",
          "data": {
            "text/html": [
              "<div>\n",
              "<style scoped>\n",
              "    .dataframe tbody tr th:only-of-type {\n",
              "        vertical-align: middle;\n",
              "    }\n",
              "\n",
              "    .dataframe tbody tr th {\n",
              "        vertical-align: top;\n",
              "    }\n",
              "\n",
              "    .dataframe thead th {\n",
              "        text-align: right;\n",
              "    }\n",
              "</style>\n",
              "<table border=\"1\" class=\"dataframe\">\n",
              "  <thead>\n",
              "    <tr style=\"text-align: right;\">\n",
              "      <th></th>\n",
              "      <th>label</th>\n",
              "      <th>comment</th>\n",
              "    </tr>\n",
              "  </thead>\n",
              "  <tbody>\n",
              "    <tr>\n",
              "      <th>0</th>\n",
              "      <td>0</td>\n",
              "      <td>돈주고 올라갈만한 전망대는 아니였어요.....돈이 너무 아까워요...ㅎ</td>\n",
              "    </tr>\n",
              "    <tr>\n",
              "      <th>1</th>\n",
              "      <td>1</td>\n",
              "      <td>가을을 품고 한얌서은 또 다른 계절을 기다립니다.</td>\n",
              "    </tr>\n",
              "    <tr>\n",
              "      <th>2</th>\n",
              "      <td>0</td>\n",
              "      <td>야경이 선명하게 보이진 않네요</td>\n",
              "    </tr>\n",
              "    <tr>\n",
              "      <th>3</th>\n",
              "      <td>0</td>\n",
              "      <td>너무 비싸고 신발벗는곳이 있어서 발냄새가 남</td>\n",
              "    </tr>\n",
              "    <tr>\n",
              "      <th>4</th>\n",
              "      <td>0</td>\n",
              "      <td>야외임에도 사람이 너무 많아서 답답함</td>\n",
              "    </tr>\n",
              "    <tr>\n",
              "      <th>...</th>\n",
              "      <td>...</td>\n",
              "      <td>...</td>\n",
              "    </tr>\n",
              "    <tr>\n",
              "      <th>14104</th>\n",
              "      <td>2</td>\n",
              "      <td>날씨가 받쳐준다면 언제, 어디에서 놀아도 좋은 곳. 63빌딩 쪽에서는 경치가 좋다보...</td>\n",
              "    </tr>\n",
              "    <tr>\n",
              "      <th>14105</th>\n",
              "      <td>2</td>\n",
              "      <td>여의도공원에서부터 한강공원까지 이어져 있음벚꽃축제때는 사람이 너무 많기는 한데바람쐬...</td>\n",
              "    </tr>\n",
              "    <tr>\n",
              "      <th>14106</th>\n",
              "      <td>1</td>\n",
              "      <td>한강공원을 사랑하는 1인으로써 정말 자주가요야시장도 열리고 산책하기 좋고 꽃구경도 ...</td>\n",
              "    </tr>\n",
              "    <tr>\n",
              "      <th>14107</th>\n",
              "      <td>2</td>\n",
              "      <td>여의도는 잘 안와서, 근처 호텔 투숙 할 때 들렀는데,날씨가 좋아서 그런지 기분 좋...</td>\n",
              "    </tr>\n",
              "    <tr>\n",
              "      <th>14108</th>\n",
              "      <td>2</td>\n",
              "      <td>한강공원 중 여의도가 가장 좋다. 치킨과 맥주를 사서 친구나 가족과 연인과 함께하세...</td>\n",
              "    </tr>\n",
              "  </tbody>\n",
              "</table>\n",
              "<p>14109 rows × 2 columns</p>\n",
              "</div>"
            ],
            "text/plain": [
              "       label                                            comment\n",
              "0          0            돈주고 올라갈만한 전망대는 아니였어요.....돈이 너무 아까워요...ㅎ\n",
              "1          1                        가을을 품고 한얌서은 또 다른 계절을 기다립니다.\n",
              "2          0                                   야경이 선명하게 보이진 않네요\n",
              "3          0                           너무 비싸고 신발벗는곳이 있어서 발냄새가 남\n",
              "4          0                               야외임에도 사람이 너무 많아서 답답함\n",
              "...      ...                                                ...\n",
              "14104      2  날씨가 받쳐준다면 언제, 어디에서 놀아도 좋은 곳. 63빌딩 쪽에서는 경치가 좋다보...\n",
              "14105      2  여의도공원에서부터 한강공원까지 이어져 있음벚꽃축제때는 사람이 너무 많기는 한데바람쐬...\n",
              "14106      1  한강공원을 사랑하는 1인으로써 정말 자주가요야시장도 열리고 산책하기 좋고 꽃구경도 ...\n",
              "14107      2  여의도는 잘 안와서, 근처 호텔 투숙 할 때 들렀는데,날씨가 좋아서 그런지 기분 좋...\n",
              "14108      2  한강공원 중 여의도가 가장 좋다. 치킨과 맥주를 사서 친구나 가족과 연인과 함께하세...\n",
              "\n",
              "[14109 rows x 2 columns]"
            ]
          },
          "metadata": {},
          "execution_count": 4
        }
      ]
    },
    {
      "cell_type": "code",
      "metadata": {
        "id": "hDQ6hTcdcQiM"
      },
      "source": [
        "# 개행 전처리\n",
        "data['comment'] = data.comment.replace('\\n',' ',regex=True)"
      ],
      "execution_count": 9,
      "outputs": []
    },
    {
      "cell_type": "code",
      "metadata": {
        "id": "lIu3uwJxbb-0"
      },
      "source": [
        "# 각 레이블별 분리\n",
        "\n",
        "pos = data[data['label']==2]\n",
        "neu = data[data['label']==1]\n",
        "neg = data[data['label']==0]"
      ],
      "execution_count": 10,
      "outputs": []
    },
    {
      "cell_type": "code",
      "metadata": {
        "colab": {
          "base_uri": "https://localhost:8080/"
        },
        "id": "ZUGgeeapbk-y",
        "outputId": "4a61d0d3-35df-4f40-816b-9e87f49c163d"
      },
      "source": [
        "# 각 레이블 갯수 파악\n",
        "\n",
        "print(pos.shape)\n",
        "print(neu.shape)\n",
        "print(neg.shape)"
      ],
      "execution_count": 11,
      "outputs": [
        {
          "output_type": "stream",
          "name": "stdout",
          "text": [
            "(4928, 2)\n",
            "(4044, 2)\n",
            "(5137, 2)\n"
          ]
        }
      ]
    },
    {
      "cell_type": "code",
      "metadata": {
        "id": "A_A4Szxdb1RU"
      },
      "source": [
        "# 각 행 겹치지 않게 shuffle\n",
        "\n",
        "import sklearn\n",
        "\n",
        "pos = sklearn.utils.shuffle(pos)\n",
        "neu = sklearn.utils.shuffle(neu)\n",
        "neg = sklearn.utils.shuffle(neg)"
      ],
      "execution_count": 13,
      "outputs": []
    },
    {
      "cell_type": "code",
      "metadata": {
        "id": "X3iNvmV6cr9h"
      },
      "source": [
        "# train, validation, test set 구축\n",
        "\n",
        "neg_train = neg[:3200]\n",
        "neg_valid = neg[3200:3600]\n",
        "neg_test = neg[3600:4000]\n",
        "\n",
        "neu_train = neu[:3200]\n",
        "neu_valid = neu[3200:3600]\n",
        "neu_test = neu[3600:4000]\n",
        "\n",
        "pos_train = pos[:3200]\n",
        "pos_valid = pos[3200:3600]\n",
        "pos_test = pos[3600:4000]"
      ],
      "execution_count": 14,
      "outputs": []
    },
    {
      "cell_type": "code",
      "metadata": {
        "id": "IZDrnIe1dNSZ"
      },
      "source": [
        "# data set 합치기\n",
        "\n",
        "train = pd.concat([neg_train, neu_train,pos_train],ignore_index=True)\n",
        "valid = pd.concat([neg_valid, neu_valid,pos_valid],ignore_index=True)\n",
        "test = pd.concat([neg_test, neu_test,pos_test],ignore_index=True)"
      ],
      "execution_count": 15,
      "outputs": []
    },
    {
      "cell_type": "code",
      "metadata": {
        "id": "6m4FJu6hdRyp"
      },
      "source": [
        "# txt file로 저장\n",
        "\n",
        "train.to_csv('/content/drive/MyDrive/2차 의도분류/kobert 실습/train.txt',sep='\\t',header=False,index=False)\n",
        "valid.to_csv('/content/drive/MyDrive/2차 의도분류/kobert 실습/validation.txt',sep='\\t',header=False,index=False)\n",
        "test.to_csv('/content/drive/MyDrive/2차 의도분류/kobert 실습/test.txt',sep='\\t',header=False,index=False)"
      ],
      "execution_count": 16,
      "outputs": []
    }
  ]
}