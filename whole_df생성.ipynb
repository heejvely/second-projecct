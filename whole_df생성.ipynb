{
  "nbformat": 4,
  "nbformat_minor": 0,
  "metadata": {
    "colab": {
      "name": "whole_df생성.ipynb",
      "provenance": [],
      "machine_shape": "hm",
      "include_colab_link": true
    },
    "kernelspec": {
      "name": "python3",
      "display_name": "Python 3"
    },
    "language_info": {
      "name": "python"
    },
    "accelerator": "TPU"
  },
  "cells": [
    {
      "cell_type": "markdown",
      "metadata": {
        "id": "view-in-github",
        "colab_type": "text"
      },
      "source": [
        "<a href=\"https://colab.research.google.com/github/heejvely/second-projecct/blob/main/whole_df%EC%83%9D%EC%84%B1.ipynb\" target=\"_parent\"><img src=\"https://colab.research.google.com/assets/colab-badge.svg\" alt=\"Open In Colab\"/></a>"
      ]
    },
    {
      "cell_type": "code",
      "metadata": {
        "id": "Ha6XscwD6Mir"
      },
      "source": [
        "%more /content/drive/MyDrive/2차 의도분류/origin_dataframe/refine_csv.py"
      ],
      "execution_count": null,
      "outputs": []
    },
    {
      "cell_type": "code",
      "metadata": {
        "id": "6Gee7_mD7Igh"
      },
      "source": [
        "%load /content/drive/MyDrive/2차 의도분류/origin_dataframe/refine_csv.py"
      ],
      "execution_count": null,
      "outputs": []
    },
    {
      "cell_type": "code",
      "metadata": {
        "id": "ZwTH2WUE8v59"
      },
      "source": [
        "a"
      ],
      "execution_count": null,
      "outputs": []
    },
    {
      "cell_type": "code",
      "metadata": {
        "colab": {
          "base_uri": "https://localhost:8080/"
        },
        "id": "7RjAXimU7Wvg",
        "outputId": "7d1e7396-9bad-4f05-9da0-e8c9e0597e4f"
      },
      "source": [
        "import os\n",
        "with open('/content/drive/MyDrive/2차 의도분류/origin_dataframe/refine_csv.py') as f:\n",
        "  line = f.read()\n",
        "\n",
        "print(line)"
      ],
      "execution_count": null,
      "outputs": [
        {
          "output_type": "stream",
          "name": "stdout",
          "text": [
            "import os, re\n",
            "import pandas as pd\n",
            "from pathlib import Path\n",
            "\n",
            "## set variables\n",
            "# paths\n",
            "original_dir = os.getcwd()\n",
            "refined_dir  = os.path.join(original_dir, 'refined')\n",
            "\n",
            "# make ${refined_dir} regardless of its existence\n",
            "Path(refined_dir).mkdir(exist_ok=True)\n",
            "\n",
            "# files\n",
            "csv_file     = os.path.join(original_dir, 'google_경복궁.csv')\n",
            "refined_csv  = os.path.join(refined_dir, 'refined_comments.csv')\n",
            "refined_data = os.path.join(refined_dir, 'data.txt')\n",
            "short_data   = os.path.join(refined_dir, 'short.txt')\n",
            "long_data    = os.path.join(refined_dir, 'long.txt')\n",
            "\n",
            "# set regex patterns\n",
            "hash_tag     = re.compile('#\\S+')\n",
            "unnecessary  = re.compile('[^\\w\\s.?!,]')\n",
            "multi_spaces = re.compile('\\s{2,}')\n",
            "\n",
            "score_dict = {\n",
            "                0.0: '나쁨',\n",
            "                0.5: '나쁨',\n",
            "                1.0: '나쁨',\n",
            "                1.5: '나쁨',\n",
            "                2.0: '나쁨',\n",
            "                2.5: '보통',\n",
            "                3.0: '보통',\n",
            "                3.5: '보통',\n",
            "                4.0: '좋음',\n",
            "                4.5: '좋음',\n",
            "                5.0: '좋음'\n",
            "}\n",
            "\n",
            "min_len = 10\n",
            "max_len = 250\n",
            "\n",
            "def main():\n",
            "    '''\n",
            "    The main function.\n",
            "    Reads csv_file into pandas.DataFrame and refines it.\n",
            "    After refining, it saves the refined DataFrame into new csv file and data file.\n",
            "    '''\n",
            "    # read csv file\n",
            "    df = pd.read_csv(csv_file)\n",
            "    df = df[df.columns[1:]] # drop first column since it's unnecessary.\n",
            "\n",
            "    # refine comment column and score column\n",
            "    df['comment'] = df['comment'].apply(refine_comment)\n",
            "    df['score'] = df['score'].apply(lambda x: score_dict[x])\n",
            "\n",
            "    # save refined DataFrame into csv file\n",
            "    df.to_csv(refined_csv, index=False)\n",
            "\n",
            "    # convert df into data for BERT fine-tuning\n",
            "    df_to_data(df[['score', 'comment']])\n",
            "\n",
            "    return\n",
            "\n",
            "def refine_comment(comment):\n",
            "    '''\n",
            "    A function that refines a comment via regex patterns\n",
            "\n",
            "    refining procedure:\n",
            "    1. get rid of unnecessary characters()\n",
            "    2. get rid of hash_tags\n",
            "    3. convert multi spaces into a single space\n",
            "    4. strip off spaces in the front and back\n",
            "    '''\n",
            "    refined_comment = hash_tag.sub(' ', comment)\n",
            "    refined_comment = unnecessary.sub(' ', refined_comment)\n",
            "    refined_comment = multi_spaces.sub(' ', refined_comment)\n",
            "\n",
            "    return refined_comment.strip()\n",
            "\n",
            "def df_to_data(df):\n",
            "    '''\n",
            "    A function that converts df into BERT intention classifying data\n",
            "\n",
            "    procedure\n",
            "    1. drop duplicates\n",
            "    2. save only comments that are in appropriate range (min_len~max_len char long)\n",
            "    3. discard comments that do not contain hangul([가-힣])\n",
            "    '''\n",
            "    df.drop_duplicates(inplace=True) # drop duplicated values\n",
            "\n",
            "    # abandon comment if it does not contain hangul.\n",
            "    hangul_mask = df['comment'].str.match('[가-힣]')\n",
            "    df = df.loc[hangul_mask]\n",
            "\n",
            "    # the length for the comment should be min_len ~ max_len char long.\n",
            "    length_mask = (df['comment'].str.len() >= min_len ) & (df['comment'].str.len() <= max_len)\n",
            "    short_mask  = df['comment'].str.len() < min_len\n",
            "    long_mask   = df['comment'].str.len() > max_len\n",
            "\n",
            "    df_refined = df.loc[length_mask]\n",
            "    shorts = df.loc[short_mask]\n",
            "    longs  = df.loc[long_mask]\n",
            "\n",
            "    # save df into tsv(tab separated values)\n",
            "    df_refined.to_csv(refined_data, sep='\\t', header=False, index=False)\n",
            "    shorts.to_csv(short_data, sep='\\t', header=False, index=False)\n",
            "    longs.to_csv(long_data, sep='\\t', header=False, index=False)\n",
            "\n",
            "    return\n",
            "\n",
            "if __name__ == '__main__':\n",
            "    main()\n",
            "\n"
          ]
        }
      ]
    },
    {
      "cell_type": "code",
      "metadata": {
        "id": "x0IVC6kb9ZPr"
      },
      "source": [
        "import os\n",
        "\n",
        "google_dir = '/content/drive/MyDrive/2차 의도분류/origin_dataframe/google'\n",
        "google_file_list = os.listdir(google_dir)\n",
        "naver_dir = '/content/drive/MyDrive/2차 의도분류/origin_dataframe/naver'\n",
        "naver_file_list = os.listdir(naver_dir)\n",
        "tripadvisor_dir = '/content/drive/MyDrive/2차 의도분류/origin_dataframe/tripadvisor'\n",
        "tripadvisor_file_list = os.listdir(tripadvisor_dir)"
      ],
      "execution_count": null,
      "outputs": []
    },
    {
      "cell_type": "code",
      "metadata": {
        "colab": {
          "base_uri": "https://localhost:8080/"
        },
        "id": "vcVf1zUJ-K_a",
        "outputId": "252b8a63-af54-4d17-c07a-8f4fa243246f"
      },
      "source": [
        "google_file_list"
      ],
      "execution_count": null,
      "outputs": [
        {
          "output_type": "execute_result",
          "data": {
            "text/plain": [
              "['google_N서울타워.csv',\n",
              " 'google_롯데월드.csv',\n",
              " 'google_경복궁(1180).csv',\n",
              " 'google_동대문디자인플라자.csv',\n",
              " 'google_광화문광장.csv',\n",
              " 'google_서울랜드.csv',\n",
              " 'google_덕수궁.csv',\n",
              " 'google_낙산공원.csv',\n",
              " 'google_한가람미술관.csv',\n",
              " 'google_여의도공원.csv',\n",
              " 'google_가든파이브.csv',\n",
              " 'google_동대문.csv',\n",
              " 'google_63아쿠아플라넷.csv',\n",
              " 'google_창경궁.csv',\n",
              " 'google_동묘벼룩시장.csv',\n",
              " 'google_세종문화회관.csv',\n",
              " 'google_마로니에공원.csv',\n",
              " 'google_국립고궁박물관.csv',\n",
              " 'google_디뮤지엄.csv',\n",
              " 'google_석촌호수공원.csv',\n",
              " 'google_이화동벽화마을.csv',\n",
              " 'google_대림미술관.csv',\n",
              " 'google_북서울꿈의숲.csv',\n",
              " 'google_독립문_영천시장.csv',\n",
              " 'google_삼성딜라이트.csv',\n",
              " 'google_서울풍물시장.csv',\n",
              " 'google_망원한강공원.csv',\n",
              " 'google_광장시장.csv',\n",
              " 'google_가락시장.csv',\n",
              " 'google_국립중앙박물관.csv',\n",
              " 'google_남대문시장.csv',\n",
              " 'google_남산골한옥마을.csv',\n",
              " 'google_노량진수산시장.csv',\n",
              " 'google_남산케이블카.csv',\n",
              " 'google_롯데월드아쿠아리움.csv',\n",
              " 'google_롯데월드타워.csv',\n",
              " 'google_명동성당.csv',\n",
              " 'google_반포한강공원.csv',\n",
              " 'google_보라매공원.csv',\n",
              " 'google_북악팔각정.csv',\n",
              " 'google_북촌한옥마을.csv',\n",
              " 'google_서울로7017.csv',\n",
              " 'google_서울대공원.csv',\n",
              " 'google_서대문형무소역사관.csv',\n",
              " 'google_서울숲공원.csv',\n",
              " 'google_서울식물원.csv',\n",
              " 'google_예술의전당.csv',\n",
              " 'google_어린이대공원.csv',\n",
              " 'google_스타필드코엑스몰.csv',\n",
              " 'google_여의도한강공원.csv',\n",
              " 'google_조계사.csv',\n",
              " 'google_익선동한옥거리.csv',\n",
              " 'google_창덕궁.csv',\n",
              " 'google_하늘공원.csv',\n",
              " 'google_트릭아이뮤지엄.csv',\n",
              " 'google_청계천.csv',\n",
              " 'google_한국전쟁기념관.csv',\n",
              " 'google_통인시장.csv',\n",
              " 'google_잠실한강공원.csv',\n",
              " 'google_서울역사박물관.csv',\n",
              " 'google_홍대쇼핑거리.csv',\n",
              " 'google_봉은사.csv']"
            ]
          },
          "metadata": {},
          "execution_count": 41
        }
      ]
    },
    {
      "cell_type": "code",
      "metadata": {
        "id": "iTRHwBVM-dFN"
      },
      "source": [
        "import pandas as pd\n",
        "\n",
        "whole_df = pd.DataFrame(columns = ['comment', 'score', 'date'])\n",
        "for i in google_file_list:\n",
        "  df = pd.read_csv(f'{google_dir}/{i}')\n",
        "  whole_df = pd.concat([whole_df,df], ignore_index=True)\n"
      ],
      "execution_count": null,
      "outputs": []
    },
    {
      "cell_type": "code",
      "metadata": {
        "colab": {
          "base_uri": "https://localhost:8080/",
          "height": 417
        },
        "id": "EtrnosL7AHA_",
        "outputId": "0d52602a-3461-4c25-92b8-f8cee6dbd6b2"
      },
      "source": [
        "whole_df"
      ],
      "execution_count": null,
      "outputs": [
        {
          "output_type": "execute_result",
          "data": {
            "text/html": [
              "<div>\n",
              "<style scoped>\n",
              "    .dataframe tbody tr th:only-of-type {\n",
              "        vertical-align: middle;\n",
              "    }\n",
              "\n",
              "    .dataframe tbody tr th {\n",
              "        vertical-align: top;\n",
              "    }\n",
              "\n",
              "    .dataframe thead th {\n",
              "        text-align: right;\n",
              "    }\n",
              "</style>\n",
              "<table border=\"1\" class=\"dataframe\">\n",
              "  <thead>\n",
              "    <tr style=\"text-align: right;\">\n",
              "      <th></th>\n",
              "      <th>comment</th>\n",
              "      <th>score</th>\n",
              "      <th>date</th>\n",
              "    </tr>\n",
              "  </thead>\n",
              "  <tbody>\n",
              "    <tr>\n",
              "      <th>0</th>\n",
              "      <td>서울 살면서 남산타워에 처음 올라가봤어요..어렸을때 몇번갔다는데..기억에는 없어서^...</td>\n",
              "      <td>5.0</td>\n",
              "      <td>3주 전</td>\n",
              "    </tr>\n",
              "    <tr>\n",
              "      <th>1</th>\n",
              "      <td>코로나로 인해 사람이 인적이 적어졌지만 비오늘날  서울 시티트어를 하기엔 너무 좋은...</td>\n",
              "      <td>5.0</td>\n",
              "      <td>2주 전</td>\n",
              "    </tr>\n",
              "    <tr>\n",
              "      <th>2</th>\n",
              "      <td>서울의 전경을 볼 수 있어 너무 좋아요. 서두르세요. 다음엔 남산타워 전망대 티켓까...</td>\n",
              "      <td>5.0</td>\n",
              "      <td>3주 전</td>\n",
              "    </tr>\n",
              "    <tr>\n",
              "      <th>3</th>\n",
              "      <td>분위기 전환, 데이트하러 방문하기 좋은 거 같아요. 비오는 날이라 아쉽지만 그래도 ...</td>\n",
              "      <td>5.0</td>\n",
              "      <td>1주 전</td>\n",
              "    </tr>\n",
              "    <tr>\n",
              "      <th>4</th>\n",
              "      <td>서울에 사는 사람들에게는 너무 자주 볼 수 있어서 막상 살면서 몇번 안 올라가게 되...</td>\n",
              "      <td>4.0</td>\n",
              "      <td>3주 전</td>\n",
              "    </tr>\n",
              "    <tr>\n",
              "      <th>...</th>\n",
              "      <td>...</td>\n",
              "      <td>...</td>\n",
              "      <td>...</td>\n",
              "    </tr>\n",
              "    <tr>\n",
              "      <th>65246</th>\n",
              "      <td>(Google 번역 제공) 행복 부처님 생일.(원문) …더보기(Google 번역 제...</td>\n",
              "      <td>5.0</td>\n",
              "      <td>2년 전</td>\n",
              "    </tr>\n",
              "    <tr>\n",
              "      <th>65247</th>\n",
              "      <td>(Google 번역 제공) 놀랍고 평화로운 곳.(원문) …더보기(Google 번역 ...</td>\n",
              "      <td>5.0</td>\n",
              "      <td>1년 전</td>\n",
              "    </tr>\n",
              "    <tr>\n",
              "      <th>65248</th>\n",
              "      <td>(Google 번역 제공) 밤에 절대적으로 화려하다. 건물은 물 위에 비추고 반사되...</td>\n",
              "      <td>4.0</td>\n",
              "      <td>2년 전</td>\n",
              "    </tr>\n",
              "    <tr>\n",
              "      <th>65249</th>\n",
              "      <td>(Google 번역 제공) 도시의 중심부에 위치한 매우 평화로운 사원.(원문) …더...</td>\n",
              "      <td>5.0</td>\n",
              "      <td>2년 전</td>\n",
              "    </tr>\n",
              "    <tr>\n",
              "      <th>65250</th>\n",
              "      <td>(Google 번역 제공) 앉고 더 나은 계획을 세우기에 좋은 곳입니다.(원문)很棒...</td>\n",
              "      <td>5.0</td>\n",
              "      <td>1년 전</td>\n",
              "    </tr>\n",
              "  </tbody>\n",
              "</table>\n",
              "<p>65251 rows × 3 columns</p>\n",
              "</div>"
            ],
            "text/plain": [
              "                                                 comment  score  date\n",
              "0      서울 살면서 남산타워에 처음 올라가봤어요..어렸을때 몇번갔다는데..기억에는 없어서^...    5.0  3주 전\n",
              "1      코로나로 인해 사람이 인적이 적어졌지만 비오늘날  서울 시티트어를 하기엔 너무 좋은...    5.0  2주 전\n",
              "2      서울의 전경을 볼 수 있어 너무 좋아요. 서두르세요. 다음엔 남산타워 전망대 티켓까...    5.0  3주 전\n",
              "3      분위기 전환, 데이트하러 방문하기 좋은 거 같아요. 비오는 날이라 아쉽지만 그래도 ...    5.0  1주 전\n",
              "4      서울에 사는 사람들에게는 너무 자주 볼 수 있어서 막상 살면서 몇번 안 올라가게 되...    4.0  3주 전\n",
              "...                                                  ...    ...   ...\n",
              "65246  (Google 번역 제공) 행복 부처님 생일.(원문) …더보기(Google 번역 제...    5.0  2년 전\n",
              "65247  (Google 번역 제공) 놀랍고 평화로운 곳.(원문) …더보기(Google 번역 ...    5.0  1년 전\n",
              "65248  (Google 번역 제공) 밤에 절대적으로 화려하다. 건물은 물 위에 비추고 반사되...    4.0  2년 전\n",
              "65249  (Google 번역 제공) 도시의 중심부에 위치한 매우 평화로운 사원.(원문) …더...    5.0  2년 전\n",
              "65250  (Google 번역 제공) 앉고 더 나은 계획을 세우기에 좋은 곳입니다.(원문)很棒...    5.0  1년 전\n",
              "\n",
              "[65251 rows x 3 columns]"
            ]
          },
          "metadata": {},
          "execution_count": 53
        }
      ]
    },
    {
      "cell_type": "code",
      "metadata": {
        "id": "xydvcfmWP1pW"
      },
      "source": [
        "import pandas as pd\n",
        "\n",
        "for i in naver_file_list:\n",
        "  df = pd.read_csv(f'{naver_dir}/{i}')\n",
        "  whole_df = pd.concat([whole_df,df], ignore_index=True)\n"
      ],
      "execution_count": null,
      "outputs": []
    },
    {
      "cell_type": "code",
      "metadata": {
        "id": "xrpm0nHhQE3x"
      },
      "source": [
        "import pandas as pd\n",
        "\n",
        "for i in tripadvisor_file_list:\n",
        "  df = pd.read_csv(f'{tripadvisor_dir}/{i}')\n",
        "  whole_df = pd.concat([whole_df,df], ignore_index=True)\n"
      ],
      "execution_count": null,
      "outputs": []
    },
    {
      "cell_type": "code",
      "metadata": {
        "id": "mjCnVofYQZ1B"
      },
      "source": [
        "whole_df.drop(index=(whole_df[whole_df.comment.isna()].index),inplace=True)"
      ],
      "execution_count": null,
      "outputs": []
    },
    {
      "cell_type": "code",
      "metadata": {
        "colab": {
          "base_uri": "https://localhost:8080/"
        },
        "id": "LazmXUpVRQZT",
        "outputId": "e896e7ba-ac75-4376-bd58-d05e032546ba"
      },
      "source": [
        "whole_df.isna().sum()"
      ],
      "execution_count": null,
      "outputs": [
        {
          "output_type": "execute_result",
          "data": {
            "text/plain": [
              "comment      0\n",
              "score       47\n",
              "date       550\n",
              "dtype: int64"
            ]
          },
          "metadata": {},
          "execution_count": 150
        }
      ]
    },
    {
      "cell_type": "code",
      "metadata": {
        "id": "Mg4l6NsSQLw6"
      },
      "source": [
        "whole_df.drop(index= whole_df[whole_df.comment.str.contains('Google 번역')].index, inplace=True)"
      ],
      "execution_count": null,
      "outputs": []
    },
    {
      "cell_type": "code",
      "metadata": {
        "id": "uw8gSdcySgdj"
      },
      "source": [
        "whole_df.to_csv('/content/drive/MyDrive/2차 의도분류/origin_dataframe/whole_df.csv',index=False)"
      ],
      "execution_count": null,
      "outputs": []
    },
    {
      "cell_type": "code",
      "metadata": {
        "id": "02oV_FPtSrGe"
      },
      "source": [
        "whole_df.reset_index().drop('index',axis=1).to_csv('/content/drive/MyDrive/2차 의도분류/origin_dataframe/whole_df.csv',index=False)"
      ],
      "execution_count": null,
      "outputs": []
    },
    {
      "cell_type": "code",
      "metadata": {
        "id": "Rg-3KIcMS5J9"
      },
      "source": [
        "whole_df = whole_df.reset_index().drop('index',axis=1)"
      ],
      "execution_count": null,
      "outputs": []
    },
    {
      "cell_type": "code",
      "metadata": {
        "colab": {
          "base_uri": "https://localhost:8080/",
          "height": 70
        },
        "id": "15MEc1M5S-9y",
        "outputId": "8edaee53-1fb2-4517-de58-7c4ff89e84d9"
      },
      "source": [
        "whole_df.iloc[68].comment"
      ],
      "execution_count": null,
      "outputs": [
        {
          "output_type": "execute_result",
          "data": {
            "application/vnd.google.colaboratory.intrinsic+json": {
              "type": "string"
            },
            "text/plain": [
              "'바야흐로 19년 2월...롯데2타워를 방문하며 뉘엿지는 태양과 한강의 콜라보에 매료되어 …더보기바야흐로 19년 2월...롯데2타워를 방문하며 뉘엿지는 태양과 한강의 콜라보에 매료되어여차여차 행사하는 티켓이 있어서 이번엔 N서울타워 다녀왔어요.이번방문에는 미세먼지 맑음인데도 불구하고 롯데2타워도 잘안보이고인터넷 검색해서 딱 일몰타임(1903) 맞취서 갔는데 태양자체가 안보여 너무 아쉬웠어요.그래도 야경좋아해서 좀 시간 죽이다(?) 야경 즐기다왔죠 ㅎ'"
            ]
          },
          "metadata": {},
          "execution_count": 170
        }
      ]
    },
    {
      "cell_type": "code",
      "metadata": {
        "colab": {
          "base_uri": "https://localhost:8080/",
          "height": 70
        },
        "id": "8VAKMXATsEyI",
        "outputId": "a48932db-d09a-4d82-ce5d-e3b277b94823"
      },
      "source": [
        "df.iloc[68].comment"
      ],
      "execution_count": null,
      "outputs": [
        {
          "output_type": "execute_result",
          "data": {
            "application/vnd.google.colaboratory.intrinsic+json": {
              "type": "string"
            },
            "text/plain": [
              "'바야흐로 19년 2월...롯데2타워를 방문하며 뉘엿지는 태양과 한강의 콜라보에 매료되어여차여차 행사하는 티켓이 있어서 이번엔 N서울타워 다녀왔어요.이번방문에는 미세먼지 맑음인데도 불구하고 롯데2타워도 잘안보이고인터넷 검색해서 딱 일몰타임(1903) 맞취서 갔는데 태양자체가 안보여 너무 아쉬웠어요.그래도 야경좋아해서 좀 시간 죽이다(?) 야경 즐기다왔죠 ㅎ'"
            ]
          },
          "metadata": {},
          "execution_count": 172
        }
      ]
    },
    {
      "cell_type": "code",
      "metadata": {
        "colab": {
          "base_uri": "https://localhost:8080/",
          "height": 417
        },
        "id": "mfzH31eohFe5",
        "outputId": "b04a9d45-5333-40ec-b0e7-72d8787998ab"
      },
      "source": [
        "whole_df[whole_df.comment.str.contains('…더보기')]\n",
        "\n",
        "def del_seemore(x):\n",
        "  if '…더보기' in x:\n",
        "    return x.split('…더보기')[1]\n",
        "  else:\n",
        "    return x\n",
        "df = whole_df.copy()\n",
        "df['comment'] = whole_df.comment.apply(del_seemore)\n",
        "df"
      ],
      "execution_count": null,
      "outputs": [
        {
          "output_type": "execute_result",
          "data": {
            "text/html": [
              "<div>\n",
              "<style scoped>\n",
              "    .dataframe tbody tr th:only-of-type {\n",
              "        vertical-align: middle;\n",
              "    }\n",
              "\n",
              "    .dataframe tbody tr th {\n",
              "        vertical-align: top;\n",
              "    }\n",
              "\n",
              "    .dataframe thead th {\n",
              "        text-align: right;\n",
              "    }\n",
              "</style>\n",
              "<table border=\"1\" class=\"dataframe\">\n",
              "  <thead>\n",
              "    <tr style=\"text-align: right;\">\n",
              "      <th></th>\n",
              "      <th>comment</th>\n",
              "      <th>score</th>\n",
              "      <th>date</th>\n",
              "    </tr>\n",
              "  </thead>\n",
              "  <tbody>\n",
              "    <tr>\n",
              "      <th>0</th>\n",
              "      <td>서울 살면서 남산타워에 처음 올라가봤어요..어렸을때 몇번갔다는데..기억에는 없어서^...</td>\n",
              "      <td>5.0</td>\n",
              "      <td>3주 전</td>\n",
              "    </tr>\n",
              "    <tr>\n",
              "      <th>1</th>\n",
              "      <td>코로나로 인해 사람이 인적이 적어졌지만 비오늘날  서울 시티트어를 하기엔 너무 좋은...</td>\n",
              "      <td>5.0</td>\n",
              "      <td>2주 전</td>\n",
              "    </tr>\n",
              "    <tr>\n",
              "      <th>2</th>\n",
              "      <td>서울의 전경을 볼 수 있어 너무 좋아요. 서두르세요. 다음엔 남산타워 전망대 티켓까...</td>\n",
              "      <td>5.0</td>\n",
              "      <td>3주 전</td>\n",
              "    </tr>\n",
              "    <tr>\n",
              "      <th>3</th>\n",
              "      <td>분위기 전환, 데이트하러 방문하기 좋은 거 같아요. 비오는 날이라 아쉽지만 그래도 ...</td>\n",
              "      <td>5.0</td>\n",
              "      <td>1주 전</td>\n",
              "    </tr>\n",
              "    <tr>\n",
              "      <th>4</th>\n",
              "      <td>서울에 사는 사람들에게는 너무 자주 볼 수 있어서 막상 살면서 몇번 안 올라가게 되...</td>\n",
              "      <td>4.0</td>\n",
              "      <td>3주 전</td>\n",
              "    </tr>\n",
              "    <tr>\n",
              "      <th>...</th>\n",
              "      <td>...</td>\n",
              "      <td>...</td>\n",
              "      <td>...</td>\n",
              "    </tr>\n",
              "    <tr>\n",
              "      <th>156963</th>\n",
              "      <td>바쁘 고 분주 하 ㄴ 시장 이 있 는, 잘 하 면. 모든 가게 가 있 는 것 같 다...</td>\n",
              "      <td>5.0</td>\n",
              "      <td>2014년 2월 • 친구</td>\n",
              "    </tr>\n",
              "    <tr>\n",
              "      <th>156964</th>\n",
              "      <td>저희 가 제일 좋아하 는 곳 이 ㅂ니다. 훌륭하 ㄴ 기념품, 음식 골목, 의류, 귀...</td>\n",
              "      <td>5.0</td>\n",
              "      <td>2014년 5월 • 커플</td>\n",
              "    </tr>\n",
              "    <tr>\n",
              "      <th>156965</th>\n",
              "      <td>우리가 이 곳을 몇 번을 미용 제품 및 기념품.최고의 장소에서 매우 싼 가격에 기념...</td>\n",
              "      <td>4.0</td>\n",
              "      <td>2014년 5월 • 가족</td>\n",
              "    </tr>\n",
              "    <tr>\n",
              "      <th>156966</th>\n",
              "      <td>선물 같은 큰 시장의 휴대폰 케이스, 로컬 입히 다, 지갑 및 변경다른 모든 유형의...</td>\n",
              "      <td>4.0</td>\n",
              "      <td>2014년 5월 • 개인</td>\n",
              "    </tr>\n",
              "    <tr>\n",
              "      <th>156967</th>\n",
              "      <td>우리는 12시간 경유 인천 가는 고속 열차를 타고 서울역 택시 운전사를 태우 \"여기...</td>\n",
              "      <td>4.0</td>\n",
              "      <td>2013년 8월 • 커플</td>\n",
              "    </tr>\n",
              "  </tbody>\n",
              "</table>\n",
              "<p>154449 rows × 3 columns</p>\n",
              "</div>"
            ],
            "text/plain": [
              "                                                  comment  score           date\n",
              "0       서울 살면서 남산타워에 처음 올라가봤어요..어렸을때 몇번갔다는데..기억에는 없어서^...    5.0           3주 전\n",
              "1       코로나로 인해 사람이 인적이 적어졌지만 비오늘날  서울 시티트어를 하기엔 너무 좋은...    5.0           2주 전\n",
              "2       서울의 전경을 볼 수 있어 너무 좋아요. 서두르세요. 다음엔 남산타워 전망대 티켓까...    5.0           3주 전\n",
              "3       분위기 전환, 데이트하러 방문하기 좋은 거 같아요. 비오는 날이라 아쉽지만 그래도 ...    5.0           1주 전\n",
              "4       서울에 사는 사람들에게는 너무 자주 볼 수 있어서 막상 살면서 몇번 안 올라가게 되...    4.0           3주 전\n",
              "...                                                   ...    ...            ...\n",
              "156963  바쁘 고 분주 하 ㄴ 시장 이 있 는, 잘 하 면. 모든 가게 가 있 는 것 같 다...    5.0  2014년 2월 • 친구\n",
              "156964  저희 가 제일 좋아하 는 곳 이 ㅂ니다. 훌륭하 ㄴ 기념품, 음식 골목, 의류, 귀...    5.0  2014년 5월 • 커플\n",
              "156965  우리가 이 곳을 몇 번을 미용 제품 및 기념품.최고의 장소에서 매우 싼 가격에 기념...    4.0  2014년 5월 • 가족\n",
              "156966  선물 같은 큰 시장의 휴대폰 케이스, 로컬 입히 다, 지갑 및 변경다른 모든 유형의...    4.0  2014년 5월 • 개인\n",
              "156967  우리는 12시간 경유 인천 가는 고속 열차를 타고 서울역 택시 운전사를 태우 \"여기...    4.0  2013년 8월 • 커플\n",
              "\n",
              "[154449 rows x 3 columns]"
            ]
          },
          "metadata": {},
          "execution_count": 155
        }
      ]
    },
    {
      "cell_type": "code",
      "metadata": {
        "colab": {
          "base_uri": "https://localhost:8080/",
          "height": 417
        },
        "id": "Gnq0iHxHnWtc",
        "outputId": "14cc423e-e866-46e9-fc21-08ce0cd59ff9"
      },
      "source": [
        "df"
      ],
      "execution_count": null,
      "outputs": [
        {
          "output_type": "execute_result",
          "data": {
            "text/html": [
              "<div>\n",
              "<style scoped>\n",
              "    .dataframe tbody tr th:only-of-type {\n",
              "        vertical-align: middle;\n",
              "    }\n",
              "\n",
              "    .dataframe tbody tr th {\n",
              "        vertical-align: top;\n",
              "    }\n",
              "\n",
              "    .dataframe thead th {\n",
              "        text-align: right;\n",
              "    }\n",
              "</style>\n",
              "<table border=\"1\" class=\"dataframe\">\n",
              "  <thead>\n",
              "    <tr style=\"text-align: right;\">\n",
              "      <th></th>\n",
              "      <th>comment</th>\n",
              "      <th>score</th>\n",
              "      <th>date</th>\n",
              "    </tr>\n",
              "  </thead>\n",
              "  <tbody>\n",
              "    <tr>\n",
              "      <th>0</th>\n",
              "      <td>서울 살면서 남산타워에 처음 올라가봤어요..어렸을때 몇번갔다는데..기억에는 없어서^...</td>\n",
              "      <td>5.0</td>\n",
              "      <td>3주 전</td>\n",
              "    </tr>\n",
              "    <tr>\n",
              "      <th>1</th>\n",
              "      <td>코로나로 인해 사람이 인적이 적어졌지만 비오늘날  서울 시티트어를 하기엔 너무 좋은...</td>\n",
              "      <td>5.0</td>\n",
              "      <td>2주 전</td>\n",
              "    </tr>\n",
              "    <tr>\n",
              "      <th>2</th>\n",
              "      <td>서울의 전경을 볼 수 있어 너무 좋아요. 서두르세요. 다음엔 남산타워 전망대 티켓까...</td>\n",
              "      <td>5.0</td>\n",
              "      <td>3주 전</td>\n",
              "    </tr>\n",
              "    <tr>\n",
              "      <th>3</th>\n",
              "      <td>분위기 전환, 데이트하러 방문하기 좋은 거 같아요. 비오는 날이라 아쉽지만 그래도 ...</td>\n",
              "      <td>5.0</td>\n",
              "      <td>1주 전</td>\n",
              "    </tr>\n",
              "    <tr>\n",
              "      <th>4</th>\n",
              "      <td>서울에 사는 사람들에게는 너무 자주 볼 수 있어서 막상 살면서 몇번 안 올라가게 되...</td>\n",
              "      <td>4.0</td>\n",
              "      <td>3주 전</td>\n",
              "    </tr>\n",
              "    <tr>\n",
              "      <th>...</th>\n",
              "      <td>...</td>\n",
              "      <td>...</td>\n",
              "      <td>...</td>\n",
              "    </tr>\n",
              "    <tr>\n",
              "      <th>156963</th>\n",
              "      <td>바쁘 고 분주 하 ㄴ 시장 이 있 는, 잘 하 면. 모든 가게 가 있 는 것 같 다...</td>\n",
              "      <td>5.0</td>\n",
              "      <td>2014년 2월 • 친구</td>\n",
              "    </tr>\n",
              "    <tr>\n",
              "      <th>156964</th>\n",
              "      <td>저희 가 제일 좋아하 는 곳 이 ㅂ니다. 훌륭하 ㄴ 기념품, 음식 골목, 의류, 귀...</td>\n",
              "      <td>5.0</td>\n",
              "      <td>2014년 5월 • 커플</td>\n",
              "    </tr>\n",
              "    <tr>\n",
              "      <th>156965</th>\n",
              "      <td>우리가 이 곳을 몇 번을 미용 제품 및 기념품.최고의 장소에서 매우 싼 가격에 기념...</td>\n",
              "      <td>4.0</td>\n",
              "      <td>2014년 5월 • 가족</td>\n",
              "    </tr>\n",
              "    <tr>\n",
              "      <th>156966</th>\n",
              "      <td>선물 같은 큰 시장의 휴대폰 케이스, 로컬 입히 다, 지갑 및 변경다른 모든 유형의...</td>\n",
              "      <td>4.0</td>\n",
              "      <td>2014년 5월 • 개인</td>\n",
              "    </tr>\n",
              "    <tr>\n",
              "      <th>156967</th>\n",
              "      <td>우리는 12시간 경유 인천 가는 고속 열차를 타고 서울역 택시 운전사를 태우 \"여기...</td>\n",
              "      <td>4.0</td>\n",
              "      <td>2013년 8월 • 커플</td>\n",
              "    </tr>\n",
              "  </tbody>\n",
              "</table>\n",
              "<p>154449 rows × 3 columns</p>\n",
              "</div>"
            ],
            "text/plain": [
              "                                                  comment  score           date\n",
              "0       서울 살면서 남산타워에 처음 올라가봤어요..어렸을때 몇번갔다는데..기억에는 없어서^...    5.0           3주 전\n",
              "1       코로나로 인해 사람이 인적이 적어졌지만 비오늘날  서울 시티트어를 하기엔 너무 좋은...    5.0           2주 전\n",
              "2       서울의 전경을 볼 수 있어 너무 좋아요. 서두르세요. 다음엔 남산타워 전망대 티켓까...    5.0           3주 전\n",
              "3       분위기 전환, 데이트하러 방문하기 좋은 거 같아요. 비오는 날이라 아쉽지만 그래도 ...    5.0           1주 전\n",
              "4       서울에 사는 사람들에게는 너무 자주 볼 수 있어서 막상 살면서 몇번 안 올라가게 되...    4.0           3주 전\n",
              "...                                                   ...    ...            ...\n",
              "156963  바쁘 고 분주 하 ㄴ 시장 이 있 는, 잘 하 면. 모든 가게 가 있 는 것 같 다...    5.0  2014년 2월 • 친구\n",
              "156964  저희 가 제일 좋아하 는 곳 이 ㅂ니다. 훌륭하 ㄴ 기념품, 음식 골목, 의류, 귀...    5.0  2014년 5월 • 커플\n",
              "156965  우리가 이 곳을 몇 번을 미용 제품 및 기념품.최고의 장소에서 매우 싼 가격에 기념...    4.0  2014년 5월 • 가족\n",
              "156966  선물 같은 큰 시장의 휴대폰 케이스, 로컬 입히 다, 지갑 및 변경다른 모든 유형의...    4.0  2014년 5월 • 개인\n",
              "156967  우리는 12시간 경유 인천 가는 고속 열차를 타고 서울역 택시 운전사를 태우 \"여기...    4.0  2013년 8월 • 커플\n",
              "\n",
              "[154449 rows x 3 columns]"
            ]
          },
          "metadata": {},
          "execution_count": 161
        }
      ]
    },
    {
      "cell_type": "code",
      "metadata": {
        "id": "yNs03i8nWVEd"
      },
      "source": [
        "whole_df.replace('…더보기','',regex=True,inplace=True)"
      ],
      "execution_count": null,
      "outputs": []
    },
    {
      "cell_type": "code",
      "metadata": {
        "id": "107-Z_YMiGl-"
      },
      "source": [
        "df.to_csv('/content/drive/MyDrive/2차 의도분류/origin_dataframe/whole_df.csv',index=False)"
      ],
      "execution_count": null,
      "outputs": []
    },
    {
      "cell_type": "code",
      "metadata": {
        "colab": {
          "base_uri": "https://localhost:8080/"
        },
        "id": "A2Wj41e3UIX_",
        "outputId": "e7caf452-b261-4282-d450-fa3e5351a751"
      },
      "source": [
        "import os, re\n",
        "import pandas as pd\n",
        "from pathlib import Path\n",
        "\n",
        "## set variables\n",
        "# paths\n",
        "original_dir = '/content/drive/MyDrive/2차 의도분류/origin_dataframe'\n",
        "refined_dir  = os.path.join(original_dir, 'refined')\n",
        "\n",
        "# make ${refined_dir} regardless of its existence\n",
        "Path(refined_dir).mkdir(exist_ok=True)\n",
        "\n",
        "# files\n",
        "csv_file     = os.path.join(original_dir, 'whole_df.csv')\n",
        "refined_csv  = os.path.join(refined_dir, 'refined_comments.csv')\n",
        "refined_data = os.path.join(refined_dir, 'data.txt')\n",
        "short_data   = os.path.join(refined_dir, 'short.txt')\n",
        "long_data    = os.path.join(refined_dir, 'long.txt')\n",
        "\n",
        "# set regex patterns\n",
        "hash_tag     = re.compile('#\\S+')\n",
        "unnecessary  = re.compile('[^\\w\\s.?!,]')\n",
        "multi_spaces = re.compile('\\s{2,}')\n",
        "\n",
        "score_dict = {\n",
        "                0.0: '나쁨',\n",
        "                0.5: '나쁨',\n",
        "                1.0: '나쁨',\n",
        "                1.5: '나쁨',\n",
        "                2.0: '나쁨',\n",
        "                2.5: '보통',\n",
        "                3.0: '보통',\n",
        "                3.5: '보통',\n",
        "                4.0: '좋음',\n",
        "                4.5: '좋음',\n",
        "                5.0: '좋음'\n",
        "}\n",
        "\n",
        "min_len = 10\n",
        "max_len = 250\n",
        "\n",
        "def main():\n",
        "    '''\n",
        "    The main function.\n",
        "    Reads csv_file into pandas.DataFrame and refines it.\n",
        "    After refining, it saves the refined DataFrame into new csv file and data file.\n",
        "    '''\n",
        "    # read csv file\n",
        "    df = pd.read_csv(csv_file)\n",
        "    df = df[df.columns[:]] # drop first column since it's unnecessary.\n",
        "\n",
        "    # refine comment column and score column\n",
        "    df['comment'] = df['comment'].apply(refine_comment)\n",
        "    # df['score'] = df['score'].apply(lambda x: score_dict[x])\n",
        "\n",
        "    # save refined DataFrame into csv file\n",
        "    df.to_csv(refined_csv, index=False)\n",
        "\n",
        "    # convert df into data for BERT fine-tuning\n",
        "    df_to_data(df[['score', 'comment']])\n",
        "\n",
        "    return\n",
        "\n",
        "def refine_comment(comment):\n",
        "    '''\n",
        "    A function that refines a comment via regex patterns\n",
        "\n",
        "    refining procedure:\n",
        "    1. get rid of unnecessary characters()\n",
        "    2. get rid of hash_tags\n",
        "    3. convert multi spaces into a single space\n",
        "    4. strip off spaces in the front and back\n",
        "    '''\n",
        "    refined_comment = hash_tag.sub(' ', comment)\n",
        "    refined_comment = unnecessary.sub(' ', refined_comment)\n",
        "    refined_comment = multi_spaces.sub(' ', refined_comment)\n",
        "\n",
        "    return refined_comment.strip()\n",
        "\n",
        "def df_to_data(df):\n",
        "    '''\n",
        "    A function that converts df into BERT intention classifying data\n",
        "\n",
        "    procedure\n",
        "    1. drop duplicates\n",
        "    2. save only comments that are in appropriate range (min_len~max_len char long)\n",
        "    3. discard comments that do not contain hangul([가-힣])\n",
        "    '''\n",
        "    df.drop_duplicates(inplace=True) # drop duplicated values\n",
        "\n",
        "    # abandon comment if it does not contain hangul.\n",
        "    hangul_mask = df['comment'].str.match('[가-힣]')\n",
        "    df = df.loc[hangul_mask]\n",
        "\n",
        "    # the length for the comment should be min_len ~ max_len char long.\n",
        "    length_mask = (df['comment'].str.len() >= min_len ) & (df['comment'].str.len() <= max_len)\n",
        "    short_mask  = df['comment'].str.len() < min_len\n",
        "    long_mask   = df['comment'].str.len() > max_len\n",
        "\n",
        "    df_refined = df.loc[length_mask]\n",
        "    shorts = df.loc[short_mask]\n",
        "    longs  = df.loc[long_mask]\n",
        "\n",
        "    # save df into tsv(tab separated values)\n",
        "    df_refined.to_csv(refined_data, sep='\\t', header=True, index=False)\n",
        "    shorts.to_csv(short_data, sep='\\t', header=True, index=False)\n",
        "    longs.to_csv(long_data, sep='\\t', header=True, index=False)\n",
        "\n",
        "    return\n",
        "\n",
        "if __name__ == '__main__':\n",
        "    main()"
      ],
      "execution_count": null,
      "outputs": [
        {
          "output_type": "stream",
          "name": "stderr",
          "text": [
            "/usr/local/lib/python3.7/dist-packages/ipykernel_launcher.py:89: SettingWithCopyWarning: \n",
            "A value is trying to be set on a copy of a slice from a DataFrame\n",
            "\n",
            "See the caveats in the documentation: https://pandas.pydata.org/pandas-docs/stable/user_guide/indexing.html#returning-a-view-versus-a-copy\n"
          ]
        }
      ]
    },
    {
      "cell_type": "code",
      "metadata": {
        "id": "bmF8-2gNVOZ2"
      },
      "source": [
        "pd.read_csv('/content/drive/MyDrive/2차 의도분류/origin_dataframe/refined/data.txt',sep='\\t',header=0).to_excel('/content/drive/MyDrive/2차 의도분류/origin_dataframe/refined_data.xlsx',index=False,encoding='utf-8-sig')\n",
        "# pd.read_csv('/content/drive/MyDrive/2차 의도분류/origin_dataframe/refined/long.txt')"
      ],
      "execution_count": null,
      "outputs": []
    },
    {
      "cell_type": "code",
      "metadata": {
        "id": "11CTGuuPin10"
      },
      "source": [
        "pd.read_csv('/content/drive/MyDrive/2차 의도분류/origin_dataframe/refined/data.txt',sep='\\t',header=0).to_excel('/content/drive/MyDrive/2차 의도분류/origin_dataframe/refined_data.xlsx',index=False)"
      ],
      "execution_count": null,
      "outputs": []
    },
    {
      "cell_type": "code",
      "metadata": {
        "colab": {
          "base_uri": "https://localhost:8080/",
          "height": 417
        },
        "id": "r842UALIYhoy",
        "outputId": "e280c0e9-f2a3-4c6b-ed57-7ba30f3803f5"
      },
      "source": [
        "df = pd.read_csv('/content/drive/MyDrive/2차 의도분류/origin_dataframe/refined_data.csv')\n",
        "df"
      ],
      "execution_count": null,
      "outputs": [
        {
          "output_type": "execute_result",
          "data": {
            "text/html": [
              "<div>\n",
              "<style scoped>\n",
              "    .dataframe tbody tr th:only-of-type {\n",
              "        vertical-align: middle;\n",
              "    }\n",
              "\n",
              "    .dataframe tbody tr th {\n",
              "        vertical-align: top;\n",
              "    }\n",
              "\n",
              "    .dataframe thead th {\n",
              "        text-align: right;\n",
              "    }\n",
              "</style>\n",
              "<table border=\"1\" class=\"dataframe\">\n",
              "  <thead>\n",
              "    <tr style=\"text-align: right;\">\n",
              "      <th></th>\n",
              "      <th>score</th>\n",
              "      <th>comment</th>\n",
              "    </tr>\n",
              "  </thead>\n",
              "  <tbody>\n",
              "    <tr>\n",
              "      <th>0</th>\n",
              "      <td>5.0</td>\n",
              "      <td>코로나로 인해 사람이 인적이 적어졌지만 비오늘날 서울 시티트어를 하기엔 너무 좋은 ...</td>\n",
              "    </tr>\n",
              "    <tr>\n",
              "      <th>1</th>\n",
              "      <td>5.0</td>\n",
              "      <td>서울의 전경을 볼 수 있어 너무 좋아요. 서두르세요. 다음엔 남산타워 전망대 티켓까...</td>\n",
              "    </tr>\n",
              "    <tr>\n",
              "      <th>2</th>\n",
              "      <td>5.0</td>\n",
              "      <td>분위기 전환, 데이트하러 방문하기 좋은 거 같아요. 비오는 날이라 아쉽지만 그래도 ...</td>\n",
              "    </tr>\n",
              "    <tr>\n",
              "      <th>3</th>\n",
              "      <td>4.0</td>\n",
              "      <td>필수코스. 나 자신은 서울사람으로 여러번 다녀왔지만 아기와 남편을 위해 가 봄. 서...</td>\n",
              "    </tr>\n",
              "    <tr>\n",
              "      <th>4</th>\n",
              "      <td>5.0</td>\n",
              "      <td>강아지와 함께 케이블카를 탈 수 있어서 너무 좋았습니다!!</td>\n",
              "    </tr>\n",
              "    <tr>\n",
              "      <th>...</th>\n",
              "      <td>...</td>\n",
              "      <td>...</td>\n",
              "    </tr>\n",
              "    <tr>\n",
              "      <th>122004</th>\n",
              "      <td>5.0</td>\n",
              "      <td>바쁘 고 분주 하 ㄴ 시장 이 있 는, 잘 하 면. 모든 가게 가 있 는 것 같 다...</td>\n",
              "    </tr>\n",
              "    <tr>\n",
              "      <th>122005</th>\n",
              "      <td>5.0</td>\n",
              "      <td>저희 가 제일 좋아하 는 곳 이 ㅂ니다. 훌륭하 ㄴ 기념품, 음식 골목, 의류, 귀...</td>\n",
              "    </tr>\n",
              "    <tr>\n",
              "      <th>122006</th>\n",
              "      <td>4.0</td>\n",
              "      <td>우리가 이 곳을 몇 번을 미용 제품 및 기념품.최고의 장소에서 매우 싼 가격에 기념...</td>\n",
              "    </tr>\n",
              "    <tr>\n",
              "      <th>122007</th>\n",
              "      <td>4.0</td>\n",
              "      <td>선물 같은 큰 시장의 휴대폰 케이스, 로컬 입히 다, 지갑 및 변경다른 모든 유형의...</td>\n",
              "    </tr>\n",
              "    <tr>\n",
              "      <th>122008</th>\n",
              "      <td>4.0</td>\n",
              "      <td>우리는 12시간 경유 인천 가는 고속 열차를 타고 서울역 택시 운전사를 태우 여기서...</td>\n",
              "    </tr>\n",
              "  </tbody>\n",
              "</table>\n",
              "<p>122009 rows × 2 columns</p>\n",
              "</div>"
            ],
            "text/plain": [
              "        score                                            comment\n",
              "0         5.0  코로나로 인해 사람이 인적이 적어졌지만 비오늘날 서울 시티트어를 하기엔 너무 좋은 ...\n",
              "1         5.0  서울의 전경을 볼 수 있어 너무 좋아요. 서두르세요. 다음엔 남산타워 전망대 티켓까...\n",
              "2         5.0  분위기 전환, 데이트하러 방문하기 좋은 거 같아요. 비오는 날이라 아쉽지만 그래도 ...\n",
              "3         4.0  필수코스. 나 자신은 서울사람으로 여러번 다녀왔지만 아기와 남편을 위해 가 봄. 서...\n",
              "4         5.0                   강아지와 함께 케이블카를 탈 수 있어서 너무 좋았습니다!!\n",
              "...       ...                                                ...\n",
              "122004    5.0  바쁘 고 분주 하 ㄴ 시장 이 있 는, 잘 하 면. 모든 가게 가 있 는 것 같 다...\n",
              "122005    5.0  저희 가 제일 좋아하 는 곳 이 ㅂ니다. 훌륭하 ㄴ 기념품, 음식 골목, 의류, 귀...\n",
              "122006    4.0  우리가 이 곳을 몇 번을 미용 제품 및 기념품.최고의 장소에서 매우 싼 가격에 기념...\n",
              "122007    4.0  선물 같은 큰 시장의 휴대폰 케이스, 로컬 입히 다, 지갑 및 변경다른 모든 유형의...\n",
              "122008    4.0  우리는 12시간 경유 인천 가는 고속 열차를 타고 서울역 택시 운전사를 태우 여기서...\n",
              "\n",
              "[122009 rows x 2 columns]"
            ]
          },
          "metadata": {},
          "execution_count": 110
        }
      ]
    },
    {
      "cell_type": "code",
      "metadata": {
        "colab": {
          "base_uri": "https://localhost:8080/",
          "height": 417
        },
        "id": "YdkieEZBdNQN",
        "outputId": "1105b0c3-7fb1-472b-929a-03ec101b9337"
      },
      "source": [
        "df[:43000].to_csv(refined_data, sep='\\t', header=True, index=False)"
      ],
      "execution_count": null,
      "outputs": [
        {
          "output_type": "execute_result",
          "data": {
            "text/html": [
              "<div>\n",
              "<style scoped>\n",
              "    .dataframe tbody tr th:only-of-type {\n",
              "        vertical-align: middle;\n",
              "    }\n",
              "\n",
              "    .dataframe tbody tr th {\n",
              "        vertical-align: top;\n",
              "    }\n",
              "\n",
              "    .dataframe thead th {\n",
              "        text-align: right;\n",
              "    }\n",
              "</style>\n",
              "<table border=\"1\" class=\"dataframe\">\n",
              "  <thead>\n",
              "    <tr style=\"text-align: right;\">\n",
              "      <th></th>\n",
              "      <th>score</th>\n",
              "      <th>comment</th>\n",
              "    </tr>\n",
              "  </thead>\n",
              "  <tbody>\n",
              "    <tr>\n",
              "      <th>0</th>\n",
              "      <td>5.0</td>\n",
              "      <td>코로나로 인해 사람이 인적이 적어졌지만 비오늘날 서울 시티트어를 하기엔 너무 좋은 ...</td>\n",
              "    </tr>\n",
              "    <tr>\n",
              "      <th>1</th>\n",
              "      <td>5.0</td>\n",
              "      <td>서울의 전경을 볼 수 있어 너무 좋아요. 서두르세요. 다음엔 남산타워 전망대 티켓까...</td>\n",
              "    </tr>\n",
              "    <tr>\n",
              "      <th>2</th>\n",
              "      <td>5.0</td>\n",
              "      <td>분위기 전환, 데이트하러 방문하기 좋은 거 같아요. 비오는 날이라 아쉽지만 그래도 ...</td>\n",
              "    </tr>\n",
              "    <tr>\n",
              "      <th>3</th>\n",
              "      <td>4.0</td>\n",
              "      <td>필수코스. 나 자신은 서울사람으로 여러번 다녀왔지만 아기와 남편을 위해 가 봄. 서...</td>\n",
              "    </tr>\n",
              "    <tr>\n",
              "      <th>4</th>\n",
              "      <td>5.0</td>\n",
              "      <td>강아지와 함께 케이블카를 탈 수 있어서 너무 좋았습니다!!</td>\n",
              "    </tr>\n",
              "    <tr>\n",
              "      <th>...</th>\n",
              "      <td>...</td>\n",
              "      <td>...</td>\n",
              "    </tr>\n",
              "    <tr>\n",
              "      <th>42995</th>\n",
              "      <td>4.0</td>\n",
              "      <td>아기자귀하니 이쁜 가게많고맛있는 먹거리많은 개성넘치는 곳</td>\n",
              "    </tr>\n",
              "    <tr>\n",
              "      <th>42996</th>\n",
              "      <td>5.0</td>\n",
              "      <td>분위기굿..맛도굿,자몽빙수 추천해요.</td>\n",
              "    </tr>\n",
              "    <tr>\n",
              "      <th>42997</th>\n",
              "      <td>3.0</td>\n",
              "      <td>사람들이 너무 많고.. 음식을 먹는것도 대기줄 1시간 기본이에요ㅠㅠ 근데 인사동이랑...</td>\n",
              "    </tr>\n",
              "    <tr>\n",
              "      <th>42998</th>\n",
              "      <td>5.0</td>\n",
              "      <td>사람들 많고 길거리 구경 잘 했어요</td>\n",
              "    </tr>\n",
              "    <tr>\n",
              "      <th>42999</th>\n",
              "      <td>4.0</td>\n",
              "      <td>볼거리 다양하고맛집도 많고이쁜카페거리..</td>\n",
              "    </tr>\n",
              "  </tbody>\n",
              "</table>\n",
              "<p>43000 rows × 2 columns</p>\n",
              "</div>"
            ],
            "text/plain": [
              "       score                                            comment\n",
              "0        5.0  코로나로 인해 사람이 인적이 적어졌지만 비오늘날 서울 시티트어를 하기엔 너무 좋은 ...\n",
              "1        5.0  서울의 전경을 볼 수 있어 너무 좋아요. 서두르세요. 다음엔 남산타워 전망대 티켓까...\n",
              "2        5.0  분위기 전환, 데이트하러 방문하기 좋은 거 같아요. 비오는 날이라 아쉽지만 그래도 ...\n",
              "3        4.0  필수코스. 나 자신은 서울사람으로 여러번 다녀왔지만 아기와 남편을 위해 가 봄. 서...\n",
              "4        5.0                   강아지와 함께 케이블카를 탈 수 있어서 너무 좋았습니다!!\n",
              "...      ...                                                ...\n",
              "42995    4.0                    아기자귀하니 이쁜 가게많고맛있는 먹거리많은 개성넘치는 곳\n",
              "42996    5.0                               분위기굿..맛도굿,자몽빙수 추천해요.\n",
              "42997    3.0  사람들이 너무 많고.. 음식을 먹는것도 대기줄 1시간 기본이에요ㅠㅠ 근데 인사동이랑...\n",
              "42998    5.0                                사람들 많고 길거리 구경 잘 했어요\n",
              "42999    4.0                             볼거리 다양하고맛집도 많고이쁜카페거리..\n",
              "\n",
              "[43000 rows x 2 columns]"
            ]
          },
          "metadata": {},
          "execution_count": 119
        }
      ]
    },
    {
      "cell_type": "code",
      "metadata": {
        "colab": {
          "base_uri": "https://localhost:8080/",
          "height": 417
        },
        "id": "taiN0sdeYtWu",
        "outputId": "f500a4a1-6f6b-4a12-ef1c-7f2c44ecbda1"
      },
      "source": [
        "df[df.score<2.5]"
      ],
      "execution_count": null,
      "outputs": [
        {
          "output_type": "execute_result",
          "data": {
            "text/html": [
              "<div>\n",
              "<style scoped>\n",
              "    .dataframe tbody tr th:only-of-type {\n",
              "        vertical-align: middle;\n",
              "    }\n",
              "\n",
              "    .dataframe tbody tr th {\n",
              "        vertical-align: top;\n",
              "    }\n",
              "\n",
              "    .dataframe thead th {\n",
              "        text-align: right;\n",
              "    }\n",
              "</style>\n",
              "<table border=\"1\" class=\"dataframe\">\n",
              "  <thead>\n",
              "    <tr style=\"text-align: right;\">\n",
              "      <th></th>\n",
              "      <th>score</th>\n",
              "      <th>comment</th>\n",
              "    </tr>\n",
              "  </thead>\n",
              "  <tbody>\n",
              "    <tr>\n",
              "      <th>199</th>\n",
              "      <td>2.0</td>\n",
              "      <td>돈주고 올라갈만한 전망대는 아니였어요.....돈이 너무 아까워요...ㅎ</td>\n",
              "    </tr>\n",
              "    <tr>\n",
              "      <th>229</th>\n",
              "      <td>1.0</td>\n",
              "      <td>가을을 품고 한얌서은 또 다른 계절을 기다립니다.</td>\n",
              "    </tr>\n",
              "    <tr>\n",
              "      <th>549</th>\n",
              "      <td>2.0</td>\n",
              "      <td>야경이 선명하게 보이진 않네요</td>\n",
              "    </tr>\n",
              "    <tr>\n",
              "      <th>602</th>\n",
              "      <td>2.0</td>\n",
              "      <td>너무 비싸고 신발벗는곳이 있어서 발냄새가 남</td>\n",
              "    </tr>\n",
              "    <tr>\n",
              "      <th>616</th>\n",
              "      <td>2.0</td>\n",
              "      <td>야외임에도 사람이 너무 많아서 답답함</td>\n",
              "    </tr>\n",
              "    <tr>\n",
              "      <th>...</th>\n",
              "      <td>...</td>\n",
              "      <td>...</td>\n",
              "    </tr>\n",
              "    <tr>\n",
              "      <th>121906</th>\n",
              "      <td>2.0</td>\n",
              "      <td>토요일 밤에 특별한 여행을 만들어 주는 말이 그냥 폐쇄.하지만, 24시간 상점들은 ...</td>\n",
              "    </tr>\n",
              "    <tr>\n",
              "      <th>121927</th>\n",
              "      <td>1.0</td>\n",
              "      <td>나는 가끔 하기 위해 길을 건너 사무실 건물입니다.아무것도 할 수 있는 많은 것을 ...</td>\n",
              "    </tr>\n",
              "    <tr>\n",
              "      <th>121940</th>\n",
              "      <td>1.0</td>\n",
              "      <td>늦은 밤에 갔는데, 실망을 하는 외국인을 위한 가격이 완전히 설정할 수 있습니다. ...</td>\n",
              "    </tr>\n",
              "    <tr>\n",
              "      <th>121955</th>\n",
              "      <td>2.0</td>\n",
              "      <td>시간을 낭비하지 마세요. 제가 들어간 붕대 의 남대문과 남대문 시장을 회현역에서 지...</td>\n",
              "    </tr>\n",
              "    <tr>\n",
              "      <th>121990</th>\n",
              "      <td>1.0</td>\n",
              "      <td>저는 오늘 로 빼어나 고 시간 낭비. 낮은 등급이 되고 있어 상품입니다. 또한 방 ...</td>\n",
              "    </tr>\n",
              "  </tbody>\n",
              "</table>\n",
              "<p>4756 rows × 2 columns</p>\n",
              "</div>"
            ],
            "text/plain": [
              "        score                                            comment\n",
              "199       2.0            돈주고 올라갈만한 전망대는 아니였어요.....돈이 너무 아까워요...ㅎ\n",
              "229       1.0                        가을을 품고 한얌서은 또 다른 계절을 기다립니다.\n",
              "549       2.0                                   야경이 선명하게 보이진 않네요\n",
              "602       2.0                           너무 비싸고 신발벗는곳이 있어서 발냄새가 남\n",
              "616       2.0                               야외임에도 사람이 너무 많아서 답답함\n",
              "...       ...                                                ...\n",
              "121906    2.0  토요일 밤에 특별한 여행을 만들어 주는 말이 그냥 폐쇄.하지만, 24시간 상점들은 ...\n",
              "121927    1.0  나는 가끔 하기 위해 길을 건너 사무실 건물입니다.아무것도 할 수 있는 많은 것을 ...\n",
              "121940    1.0  늦은 밤에 갔는데, 실망을 하는 외국인을 위한 가격이 완전히 설정할 수 있습니다. ...\n",
              "121955    2.0  시간을 낭비하지 마세요. 제가 들어간 붕대 의 남대문과 남대문 시장을 회현역에서 지...\n",
              "121990    1.0  저는 오늘 로 빼어나 고 시간 낭비. 낮은 등급이 되고 있어 상품입니다. 또한 방 ...\n",
              "\n",
              "[4756 rows x 2 columns]"
            ]
          },
          "metadata": {},
          "execution_count": 113
        }
      ]
    },
    {
      "cell_type": "code",
      "metadata": {
        "colab": {
          "base_uri": "https://localhost:8080/",
          "height": 417
        },
        "id": "a1w9kDODY246",
        "outputId": "b3e95334-d3ab-4503-fb40-b2bd80dba8f8"
      },
      "source": [
        "df[(df.score>=2.5)&(df.score<4)]"
      ],
      "execution_count": null,
      "outputs": [
        {
          "output_type": "execute_result",
          "data": {
            "text/html": [
              "<div>\n",
              "<style scoped>\n",
              "    .dataframe tbody tr th:only-of-type {\n",
              "        vertical-align: middle;\n",
              "    }\n",
              "\n",
              "    .dataframe tbody tr th {\n",
              "        vertical-align: top;\n",
              "    }\n",
              "\n",
              "    .dataframe thead th {\n",
              "        text-align: right;\n",
              "    }\n",
              "</style>\n",
              "<table border=\"1\" class=\"dataframe\">\n",
              "  <thead>\n",
              "    <tr style=\"text-align: right;\">\n",
              "      <th></th>\n",
              "      <th>score</th>\n",
              "      <th>comment</th>\n",
              "    </tr>\n",
              "  </thead>\n",
              "  <tbody>\n",
              "    <tr>\n",
              "      <th>32</th>\n",
              "      <td>3.0</td>\n",
              "      <td>이번에 롯데 온 행사로 저렴하게 이용했네요</td>\n",
              "    </tr>\n",
              "    <tr>\n",
              "      <th>54</th>\n",
              "      <td>3.0</td>\n",
              "      <td>바야흐로 19년 2월...롯데2타워를 방문하며 뉘엿지는 태양과 한강의 콜라보에 매료...</td>\n",
              "    </tr>\n",
              "    <tr>\n",
              "      <th>63</th>\n",
              "      <td>3.0</td>\n",
              "      <td>산책하기 좋아요. 타워 아래 전망대에서 아이스크림츄러스 7천 . 크라우드 생맥 5천...</td>\n",
              "    </tr>\n",
              "    <tr>\n",
              "      <th>64</th>\n",
              "      <td>3.0</td>\n",
              "      <td>남산 케이블 2인 26000원남산타워 2인 36000원 KT.LG 핸드폰 멤버쉽 본...</td>\n",
              "    </tr>\n",
              "    <tr>\n",
              "      <th>86</th>\n",
              "      <td>3.0</td>\n",
              "      <td>돈만 많이 쓰고옴.. 추움</td>\n",
              "    </tr>\n",
              "    <tr>\n",
              "      <th>...</th>\n",
              "      <td>...</td>\n",
              "      <td>...</td>\n",
              "    </tr>\n",
              "    <tr>\n",
              "      <th>121975</th>\n",
              "      <td>3.0</td>\n",
              "      <td>필리핀에서 오는. 비교할 수 이는 디비조리아로 또는 baclaran. 브랜드 항목 ...</td>\n",
              "    </tr>\n",
              "    <tr>\n",
              "      <th>121984</th>\n",
              "      <td>3.0</td>\n",
              "      <td>저는 아내와 함께 그녀는 모든 사랑은 것 살 수 있었다. 한 여성이 ㄴ가, 그렇게 ...</td>\n",
              "    </tr>\n",
              "    <tr>\n",
              "      <th>121985</th>\n",
              "      <td>3.0</td>\n",
              "      <td>특별히 이러한 시장을, 많이 판매 포장 마차 같은 물건. 없음 은 어느 한 분위기....</td>\n",
              "    </tr>\n",
              "    <tr>\n",
              "      <th>121991</th>\n",
              "      <td>3.0</td>\n",
              "      <td>길거리 시장이 좋은건. 하지만 만약 대한 품질 또는 브랜드 특가, 너무 귀찮게, 이...</td>\n",
              "    </tr>\n",
              "    <tr>\n",
              "      <th>122000</th>\n",
              "      <td>3.0</td>\n",
              "      <td>인사동에 갔는데 남대문시장과 명동에 시장 였는데 그렇게 시장 과하중 . 시장 정보도...</td>\n",
              "    </tr>\n",
              "  </tbody>\n",
              "</table>\n",
              "<p>12869 rows × 2 columns</p>\n",
              "</div>"
            ],
            "text/plain": [
              "        score                                            comment\n",
              "32        3.0                            이번에 롯데 온 행사로 저렴하게 이용했네요\n",
              "54        3.0  바야흐로 19년 2월...롯데2타워를 방문하며 뉘엿지는 태양과 한강의 콜라보에 매료...\n",
              "63        3.0  산책하기 좋아요. 타워 아래 전망대에서 아이스크림츄러스 7천 . 크라우드 생맥 5천...\n",
              "64        3.0  남산 케이블 2인 26000원남산타워 2인 36000원 KT.LG 핸드폰 멤버쉽 본...\n",
              "86        3.0                                     돈만 많이 쓰고옴.. 추움\n",
              "...       ...                                                ...\n",
              "121975    3.0  필리핀에서 오는. 비교할 수 이는 디비조리아로 또는 baclaran. 브랜드 항목 ...\n",
              "121984    3.0  저는 아내와 함께 그녀는 모든 사랑은 것 살 수 있었다. 한 여성이 ㄴ가, 그렇게 ...\n",
              "121985    3.0  특별히 이러한 시장을, 많이 판매 포장 마차 같은 물건. 없음 은 어느 한 분위기....\n",
              "121991    3.0  길거리 시장이 좋은건. 하지만 만약 대한 품질 또는 브랜드 특가, 너무 귀찮게, 이...\n",
              "122000    3.0  인사동에 갔는데 남대문시장과 명동에 시장 였는데 그렇게 시장 과하중 . 시장 정보도...\n",
              "\n",
              "[12869 rows x 2 columns]"
            ]
          },
          "metadata": {},
          "execution_count": 115
        }
      ]
    }
  ]
}