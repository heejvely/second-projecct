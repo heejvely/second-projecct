{
  "nbformat": 4,
  "nbformat_minor": 0,
  "metadata": {
    "colab": {
      "name": "compare_models.ipynb",
      "provenance": [],
      "collapsed_sections": [],
      "machine_shape": "hm",
      "include_colab_link": true
    },
    "kernelspec": {
      "name": "python3",
      "display_name": "Python 3"
    },
    "language_info": {
      "name": "python"
    },
    "accelerator": "GPU"
  },
  "cells": [
    {
      "cell_type": "markdown",
      "metadata": {
        "id": "view-in-github",
        "colab_type": "text"
      },
      "source": [
        "<a href=\"https://colab.research.google.com/github/heejvely/second-projecct/blob/main/compare_models.ipynb\" target=\"_parent\"><img src=\"https://colab.research.google.com/assets/colab-badge.svg\" alt=\"Open In Colab\"/></a>"
      ]
    },
    {
      "cell_type": "code",
      "metadata": {
        "colab": {
          "base_uri": "https://localhost:8080/",
          "height": 35
        },
        "id": "JQxA6Z6Ckgwu",
        "outputId": "f5ad7113-de4c-4872-dac7-6f4793f43f8f"
      },
      "source": [
        "import tensorflow as tf\n",
        "tf.__version__"
      ],
      "execution_count": null,
      "outputs": [
        {
          "output_type": "execute_result",
          "data": {
            "application/vnd.google.colaboratory.intrinsic+json": {
              "type": "string"
            },
            "text/plain": [
              "'2.6.0'"
            ]
          },
          "metadata": {},
          "execution_count": 1
        }
      ]
    },
    {
      "cell_type": "code",
      "metadata": {
        "id": "S5FZy9MCkkhq"
      },
      "source": [
        "import tensorflow_datasets as tfds\n",
        "import numpy as np\n",
        "import pandas as pd\n",
        "import os"
      ],
      "execution_count": null,
      "outputs": []
    },
    {
      "cell_type": "code",
      "metadata": {
        "id": "06DMvR-rkmDu"
      },
      "source": [
        "# colab 세션에 파일을 업로드해도 되고, google-drive mount 후 해당 파일들이 있는 폴더로 옮긴 후 진행하셔도 됩니다.\n",
        "df = pd.read_csv('final_train.txt', sep='\\t', names=['label', 'comment'])\n",
        "df_val = pd.read_csv('final_validation.txt', sep='\\t', names=['label', 'comment'])\n",
        "df_test = pd.read_csv('final_test.txt', sep='\\t', names=['label', 'comment'])"
      ],
      "execution_count": null,
      "outputs": []
    },
    {
      "cell_type": "code",
      "metadata": {
        "colab": {
          "base_uri": "https://localhost:8080/",
          "height": 204
        },
        "id": "MxMIbHRFkxwC",
        "outputId": "a24f0b36-b7a2-4608-c95e-7e61a35bdc70"
      },
      "source": [
        "df.head()"
      ],
      "execution_count": null,
      "outputs": [
        {
          "output_type": "execute_result",
          "data": {
            "text/html": [
              "<div>\n",
              "<style scoped>\n",
              "    .dataframe tbody tr th:only-of-type {\n",
              "        vertical-align: middle;\n",
              "    }\n",
              "\n",
              "    .dataframe tbody tr th {\n",
              "        vertical-align: top;\n",
              "    }\n",
              "\n",
              "    .dataframe thead th {\n",
              "        text-align: right;\n",
              "    }\n",
              "</style>\n",
              "<table border=\"1\" class=\"dataframe\">\n",
              "  <thead>\n",
              "    <tr style=\"text-align: right;\">\n",
              "      <th></th>\n",
              "      <th>label</th>\n",
              "      <th>comment</th>\n",
              "    </tr>\n",
              "  </thead>\n",
              "  <tbody>\n",
              "    <tr>\n",
              "      <th>0</th>\n",
              "      <td>0</td>\n",
              "      <td>동물보다 동물 모형이 더 많아요!</td>\n",
              "    </tr>\n",
              "    <tr>\n",
              "      <th>1</th>\n",
              "      <td>0</td>\n",
              "      <td>아....방학이라 사람이 넘 많아요. 대기시간 180분. 헐</td>\n",
              "    </tr>\n",
              "    <tr>\n",
              "      <th>2</th>\n",
              "      <td>0</td>\n",
              "      <td>공원도 뭣도 아닌 곳사람이 지나다니는 길에 콘크리트 화분이 수백개미치지 않고서야어찌...</td>\n",
              "    </tr>\n",
              "    <tr>\n",
              "      <th>3</th>\n",
              "      <td>0</td>\n",
              "      <td>생각보다 다양하거나 크진않았던거같아요ㅜ</td>\n",
              "    </tr>\n",
              "    <tr>\n",
              "      <th>4</th>\n",
              "      <td>0</td>\n",
              "      <td>남대문 시장에 가는것은 순전히 갈치조림 먹는거랑 지나가는길에 가는 정도!! 사실 크...</td>\n",
              "    </tr>\n",
              "  </tbody>\n",
              "</table>\n",
              "</div>"
            ],
            "text/plain": [
              "   label                                            comment\n",
              "0      0                                 동물보다 동물 모형이 더 많아요!\n",
              "1      0                  아....방학이라 사람이 넘 많아요. 대기시간 180분. 헐\n",
              "2      0  공원도 뭣도 아닌 곳사람이 지나다니는 길에 콘크리트 화분이 수백개미치지 않고서야어찌...\n",
              "3      0                              생각보다 다양하거나 크진않았던거같아요ㅜ\n",
              "4      0  남대문 시장에 가는것은 순전히 갈치조림 먹는거랑 지나가는길에 가는 정도!! 사실 크..."
            ]
          },
          "metadata": {},
          "execution_count": 4
        }
      ]
    },
    {
      "cell_type": "code",
      "metadata": {
        "id": "JcqXiyNIkzDO"
      },
      "source": [
        "comments = df.comment"
      ],
      "execution_count": null,
      "outputs": []
    },
    {
      "cell_type": "code",
      "metadata": {
        "colab": {
          "base_uri": "https://localhost:8080/"
        },
        "id": "QA1IKLPdlLyK",
        "outputId": "d3a6daf4-883d-4be2-a013-125c37b7a254"
      },
      "source": [
        "len(df)"
      ],
      "execution_count": null,
      "outputs": [
        {
          "output_type": "execute_result",
          "data": {
            "text/plain": [
              "9600"
            ]
          },
          "metadata": {},
          "execution_count": 6
        }
      ]
    },
    {
      "cell_type": "code",
      "metadata": {
        "id": "6_jALxqklPsD"
      },
      "source": [
        "# train 데이터를 기준으로 bpe 모델을 훈련해 줍니다.\n",
        "# 기타 토크나이저를 사용해도 무방합니다.\n",
        "vocab_filename = \"travel_encoder\"\n",
        "\n",
        "if not os.path.isfile(vocab_filename+\".subwords\"):\n",
        "    encoder = tfds.deprecated.text.SubwordTextEncoder.build_from_corpus(\n",
        "        comments, target_vocab_size = 20000)\n",
        "\n",
        "    encoder.save_to_file(vocab_filename)\n",
        "else:\n",
        "    encoder = tfds.deprecated.text.SubwordTextEncoder.load_from_file(vocab_filename)\n"
      ],
      "execution_count": null,
      "outputs": []
    },
    {
      "cell_type": "code",
      "metadata": {
        "colab": {
          "base_uri": "https://localhost:8080/"
        },
        "id": "SY2LGtszl1vE",
        "outputId": "81d459c7-27d9-484c-e4ad-96a08858b54a"
      },
      "source": [
        "encoder.encode(comments[0])"
      ],
      "execution_count": null,
      "outputs": [
        {
          "output_type": "execute_result",
          "data": {
            "text/plain": [
              "[7567, 27, 1665, 14212, 16197, 20, 146, 16198]"
            ]
          },
          "metadata": {},
          "execution_count": 8
        }
      ]
    },
    {
      "cell_type": "code",
      "metadata": {
        "colab": {
          "base_uri": "https://localhost:8080/",
          "height": 35
        },
        "id": "q_P71DS0l24M",
        "outputId": "52b758ff-929f-4ac5-8a6e-f7cd460eac26"
      },
      "source": [
        "comments[0]"
      ],
      "execution_count": null,
      "outputs": [
        {
          "output_type": "execute_result",
          "data": {
            "application/vnd.google.colaboratory.intrinsic+json": {
              "type": "string"
            },
            "text/plain": [
              "'동물보다 동물 모형이 더 많아요!'"
            ]
          },
          "metadata": {},
          "execution_count": 9
        }
      ]
    },
    {
      "cell_type": "code",
      "metadata": {
        "id": "CgQ_lLldl6BF"
      },
      "source": [
        "# encoder로 commnet를 encode해준 뒤, 각 df별로 \"comment_encoded\"라는 column에 추가해 줍니다.\n",
        "df[\"comment_encoded\"] = df.comment.apply(encoder.encode)\n",
        "df_val[\"comment_encoded\"] = df_val.comment.apply(encoder.encode)\n",
        "df_test[\"comment_encoded\"] = df_test.comment.apply(encoder.encode)"
      ],
      "execution_count": null,
      "outputs": []
    },
    {
      "cell_type": "code",
      "metadata": {
        "colab": {
          "base_uri": "https://localhost:8080/"
        },
        "id": "ufhMFJDBl9vi",
        "outputId": "8eb7bfba-003c-417c-c6ca-4de6ea09234e"
      },
      "source": [
        "# encoder에 대한 정보입니다.\n",
        "vocab_size = encoder.vocab_size\n",
        "print(vocab_size)\n",
        "encoder.subwords[:30]"
      ],
      "execution_count": null,
      "outputs": [
        {
          "output_type": "stream",
          "name": "stdout",
          "text": [
            "16421\n"
          ]
        },
        {
          "output_type": "execute_result",
          "data": {
            "text/plain": [
              "['. ',\n",
              " '너무_',\n",
              " ', ',\n",
              " '도_',\n",
              " '는_',\n",
              " '이_',\n",
              " '..',\n",
              " '고_',\n",
              " '수_',\n",
              " '을_',\n",
              " '에_',\n",
              " '많이_',\n",
              " '은_',\n",
              " '가_',\n",
              " '...',\n",
              " '.. ',\n",
              " '좀_',\n",
              " '사람이_',\n",
              " '의_',\n",
              " '더_',\n",
              " '서_',\n",
              " '좋은_',\n",
              " '좋아요',\n",
              " '있는_',\n",
              " '잘_',\n",
              " '를_',\n",
              " '다_',\n",
              " '만_',\n",
              " '게_',\n",
              " '한_']"
            ]
          },
          "metadata": {},
          "execution_count": 11
        }
      ]
    },
    {
      "cell_type": "code",
      "metadata": {
        "colab": {
          "base_uri": "https://localhost:8080/",
          "height": 272
        },
        "id": "y-4bjboxX12I",
        "outputId": "03c2485c-9945-4f71-ba3d-e7f513cb7438"
      },
      "source": [
        "df.head()"
      ],
      "execution_count": null,
      "outputs": [
        {
          "output_type": "execute_result",
          "data": {
            "text/html": [
              "<div>\n",
              "<style scoped>\n",
              "    .dataframe tbody tr th:only-of-type {\n",
              "        vertical-align: middle;\n",
              "    }\n",
              "\n",
              "    .dataframe tbody tr th {\n",
              "        vertical-align: top;\n",
              "    }\n",
              "\n",
              "    .dataframe thead th {\n",
              "        text-align: right;\n",
              "    }\n",
              "</style>\n",
              "<table border=\"1\" class=\"dataframe\">\n",
              "  <thead>\n",
              "    <tr style=\"text-align: right;\">\n",
              "      <th></th>\n",
              "      <th>label</th>\n",
              "      <th>comment</th>\n",
              "      <th>comment_encoded</th>\n",
              "    </tr>\n",
              "  </thead>\n",
              "  <tbody>\n",
              "    <tr>\n",
              "      <th>0</th>\n",
              "      <td>0</td>\n",
              "      <td>동물보다 동물 모형이 더 많아요!</td>\n",
              "      <td>[7567, 27, 1665, 14212, 16197, 20, 146, 16198]</td>\n",
              "    </tr>\n",
              "    <tr>\n",
              "      <th>1</th>\n",
              "      <td>0</td>\n",
              "      <td>아....방학이라 사람이 넘 많아요. 대기시간 180분. 헐</td>\n",
              "      <td>[155, 151, 4135, 18, 82, 146, 1, 3211, 16149, ...</td>\n",
              "    </tr>\n",
              "    <tr>\n",
              "      <th>2</th>\n",
              "      <td>0</td>\n",
              "      <td>공원도 뭣도 아닌 곳사람이 지나다니는 길에 콘크리트 화분이 수백개미치지 않고서야어찌...</td>\n",
              "      <td>[15619, 16400, 16338, 16328, 4, 660, 43, 18, 1...</td>\n",
              "    </tr>\n",
              "    <tr>\n",
              "      <th>3</th>\n",
              "      <td>0</td>\n",
              "      <td>생각보다 다양하거나 크진않았던거같아요ㅜ</td>\n",
              "      <td>[36, 6079, 241, 5330, 9142, 2343, 517]</td>\n",
              "    </tr>\n",
              "    <tr>\n",
              "      <th>4</th>\n",
              "      <td>0</td>\n",
              "      <td>남대문 시장에 가는것은 순전히 갈치조림 먹는거랑 지나가는길에 가는 정도!! 사실 크...</td>\n",
              "      <td>[6123, 2487, 7992, 13, 1880, 255, 276, 5167, 1...</td>\n",
              "    </tr>\n",
              "  </tbody>\n",
              "</table>\n",
              "</div>"
            ],
            "text/plain": [
              "   label  ...                                    comment_encoded\n",
              "0      0  ...     [7567, 27, 1665, 14212, 16197, 20, 146, 16198]\n",
              "1      0  ...  [155, 151, 4135, 18, 82, 146, 1, 3211, 16149, ...\n",
              "2      0  ...  [15619, 16400, 16338, 16328, 4, 660, 43, 18, 1...\n",
              "3      0  ...             [36, 6079, 241, 5330, 9142, 2343, 517]\n",
              "4      0  ...  [6123, 2487, 7992, 13, 1880, 255, 276, 5167, 1...\n",
              "\n",
              "[5 rows x 3 columns]"
            ]
          },
          "metadata": {},
          "execution_count": 12
        }
      ]
    },
    {
      "cell_type": "code",
      "metadata": {
        "id": "drRmkfHEnRSK"
      },
      "source": [
        "# train, test별로 input과 target을 분리해 줍니다.\n",
        "# 0번 column: label, 2번 column: encoded comment\n",
        "x_train, y_train = df.iloc[:,2], df.iloc[:,0]\n",
        "x_val, y_val = df_val.iloc[:,2], df_val.iloc[:,0]\n",
        "x_test, y_test = df_test.iloc[:,2], df_test.iloc[:,0]"
      ],
      "execution_count": null,
      "outputs": []
    },
    {
      "cell_type": "code",
      "metadata": {
        "colab": {
          "base_uri": "https://localhost:8080/"
        },
        "id": "jborHLVko1rN",
        "outputId": "49836449-f58d-408c-fe42-2fbd12742477"
      },
      "source": [
        "y_train.head()"
      ],
      "execution_count": null,
      "outputs": [
        {
          "output_type": "execute_result",
          "data": {
            "text/plain": [
              "0    0\n",
              "1    0\n",
              "2    0\n",
              "3    0\n",
              "4    0\n",
              "Name: label, dtype: int64"
            ]
          },
          "metadata": {},
          "execution_count": 14
        }
      ]
    },
    {
      "cell_type": "code",
      "metadata": {
        "id": "NwLS3F-OoZoG",
        "colab": {
          "base_uri": "https://localhost:8080/"
        },
        "outputId": "21f0f29b-f3f3-4986-b899-555c192c8c8b"
      },
      "source": [
        "# one-hot vector로 치환\n",
        "y_train_categorical = tf.keras.utils.to_categorical(y_train)\n",
        "y_val_categorical = tf.keras.utils.to_categorical(y_val)\n",
        "y_test_categorical = tf.keras.utils.to_categorical(y_test)\n",
        "y_train_categorical"
      ],
      "execution_count": null,
      "outputs": [
        {
          "output_type": "execute_result",
          "data": {
            "text/plain": [
              "array([[1., 0., 0.],\n",
              "       [1., 0., 0.],\n",
              "       [1., 0., 0.],\n",
              "       ...,\n",
              "       [0., 0., 1.],\n",
              "       [0., 0., 1.],\n",
              "       [0., 0., 1.]], dtype=float32)"
            ]
          },
          "metadata": {},
          "execution_count": 15
        }
      ]
    },
    {
      "cell_type": "code",
      "metadata": {
        "id": "st9TlYH_njXU"
      },
      "source": [
        "# 훈련에 들어갈 수 있게 데이터를 변환해 줍니다.\n",
        "\n",
        "from tensorflow.keras.preprocessing.sequence import pad_sequences\n",
        "maxlen = 200\n",
        "x_train = pad_sequences(x_train, padding=\"post\", maxlen=maxlen)\n",
        "x_val = pad_sequences(x_val, padding=\"post\", maxlen=maxlen)\n",
        "x_test = pad_sequences(x_test, padding=\"post\", maxlen=maxlen)"
      ],
      "execution_count": null,
      "outputs": []
    },
    {
      "cell_type": "code",
      "metadata": {
        "colab": {
          "base_uri": "https://localhost:8080/"
        },
        "id": "ICuAC9UBP7jY",
        "outputId": "e9cf526e-e2b1-4cd7-d882-e8c70e4eaad3"
      },
      "source": [
        "x_train.shape"
      ],
      "execution_count": null,
      "outputs": [
        {
          "output_type": "execute_result",
          "data": {
            "text/plain": [
              "(9600, 200)"
            ]
          },
          "metadata": {},
          "execution_count": 17
        }
      ]
    },
    {
      "cell_type": "code",
      "metadata": {
        "colab": {
          "base_uri": "https://localhost:8080/"
        },
        "id": "9Q2jllLnwVIz",
        "outputId": "155e2c3f-f6bc-4ff2-b7a1-391eaaf0175d"
      },
      "source": [
        "x_val.shape"
      ],
      "execution_count": null,
      "outputs": [
        {
          "output_type": "execute_result",
          "data": {
            "text/plain": [
              "(1200, 200)"
            ]
          },
          "metadata": {},
          "execution_count": 18
        }
      ]
    },
    {
      "cell_type": "code",
      "metadata": {
        "colab": {
          "base_uri": "https://localhost:8080/"
        },
        "id": "lbaN-dZankMk",
        "outputId": "896d7b63-fa18-43be-b5b5-56c7a74ed0ce"
      },
      "source": [
        "x_test.shape"
      ],
      "execution_count": null,
      "outputs": [
        {
          "output_type": "execute_result",
          "data": {
            "text/plain": [
              "(1200, 200)"
            ]
          },
          "metadata": {},
          "execution_count": 19
        }
      ]
    },
    {
      "cell_type": "code",
      "metadata": {
        "colab": {
          "base_uri": "https://localhost:8080/"
        },
        "id": "fFvMu71ENDVz",
        "outputId": "e8b9c0f0-6831-4b31-930b-ff10d3b10d1a"
      },
      "source": [
        "# test class 비중 파악\n",
        "print(sum(y_test == 0)) # 나쁨\n",
        "print(sum(y_test == 1)) # 좋음\n",
        "print(sum(y_test == 2)) # 보통"
      ],
      "execution_count": null,
      "outputs": [
        {
          "output_type": "stream",
          "name": "stdout",
          "text": [
            "400\n",
            "400\n",
            "400\n"
          ]
        }
      ]
    },
    {
      "cell_type": "code",
      "metadata": {
        "colab": {
          "base_uri": "https://localhost:8080/"
        },
        "id": "oIhTXIGQNDSo",
        "outputId": "5e6b71ba-77bf-4c28-e44e-4f017722a3b2"
      },
      "source": [
        "sum(y_test == 1) / len(y_test) # '좋음'만 할 경우의 정확도"
      ],
      "execution_count": null,
      "outputs": [
        {
          "output_type": "execute_result",
          "data": {
            "text/plain": [
              "0.3333333333333333"
            ]
          },
          "metadata": {},
          "execution_count": 21
        }
      ]
    },
    {
      "cell_type": "markdown",
      "metadata": {
        "id": "C3ECKczVam9M"
      },
      "source": [
        "## DNN 기반의 classifier"
      ]
    },
    {
      "cell_type": "code",
      "metadata": {
        "id": "4-iNbZzsoN66"
      },
      "source": [
        "from tensorflow.keras.models import Sequential\n",
        "from tensorflow.keras.layers import Dense, Embedding, GlobalAveragePooling1D\n",
        "\n",
        "model = Sequential()\n",
        "model.add(Embedding(vocab_size, 128, input_length=maxlen))\n",
        "model.add(GlobalAveragePooling1D())\n",
        "model.add(Dense(3))\n",
        "\n",
        "model.compile(loss=tf.keras.losses.CategoricalCrossentropy(from_logits=True),\n",
        "              optimizer=tf.keras.optimizers.Adam(1e-4),\n",
        "              metrics=['accuracy'])"
      ],
      "execution_count": null,
      "outputs": []
    },
    {
      "cell_type": "code",
      "metadata": {
        "colab": {
          "base_uri": "https://localhost:8080/"
        },
        "id": "Ng9pAUMfpM9d",
        "outputId": "871d7e21-f678-4253-de2a-3b148e667e1c"
      },
      "source": [
        "history = model.fit(x=x_train, y=y_train_categorical, validation_data=(x_val, y_val_categorical), epochs=10)"
      ],
      "execution_count": null,
      "outputs": [
        {
          "output_type": "stream",
          "name": "stdout",
          "text": [
            "Epoch 1/10\n",
            "300/300 [==============================] - 3s 3ms/step - loss: 1.0984 - accuracy: 0.3514 - val_loss: 1.0972 - val_accuracy: 0.3525\n",
            "Epoch 2/10\n",
            "300/300 [==============================] - 1s 3ms/step - loss: 1.0962 - accuracy: 0.3705 - val_loss: 1.0955 - val_accuracy: 0.3508\n",
            "Epoch 3/10\n",
            "300/300 [==============================] - 1s 3ms/step - loss: 1.0941 - accuracy: 0.3656 - val_loss: 1.0937 - val_accuracy: 0.4100\n",
            "Epoch 4/10\n",
            "300/300 [==============================] - 1s 3ms/step - loss: 1.0918 - accuracy: 0.4334 - val_loss: 1.0915 - val_accuracy: 0.4183\n",
            "Epoch 5/10\n",
            "300/300 [==============================] - 1s 3ms/step - loss: 1.0890 - accuracy: 0.4768 - val_loss: 1.0890 - val_accuracy: 0.4067\n",
            "Epoch 6/10\n",
            "300/300 [==============================] - 1s 3ms/step - loss: 1.0858 - accuracy: 0.4999 - val_loss: 1.0860 - val_accuracy: 0.4242\n",
            "Epoch 7/10\n",
            "300/300 [==============================] - 1s 3ms/step - loss: 1.0820 - accuracy: 0.4564 - val_loss: 1.0826 - val_accuracy: 0.4917\n",
            "Epoch 8/10\n",
            "300/300 [==============================] - 1s 3ms/step - loss: 1.0777 - accuracy: 0.5446 - val_loss: 1.0787 - val_accuracy: 0.4983\n",
            "Epoch 9/10\n",
            "300/300 [==============================] - 1s 3ms/step - loss: 1.0728 - accuracy: 0.5620 - val_loss: 1.0743 - val_accuracy: 0.4583\n",
            "Epoch 10/10\n",
            "300/300 [==============================] - 1s 3ms/step - loss: 1.0672 - accuracy: 0.5453 - val_loss: 1.0695 - val_accuracy: 0.5042\n"
          ]
        }
      ]
    },
    {
      "cell_type": "code",
      "metadata": {
        "colab": {
          "base_uri": "https://localhost:8080/"
        },
        "id": "KxN0zs3zOTnY",
        "outputId": "bf0d58af-ea65-4acc-aa04-8e0a34e793f5"
      },
      "source": [
        "model.evaluate(x_test, y_test_categorical)"
      ],
      "execution_count": null,
      "outputs": [
        {
          "output_type": "stream",
          "name": "stdout",
          "text": [
            "38/38 [==============================] - 0s 2ms/step - loss: 1.0686 - accuracy: 0.5308\n"
          ]
        },
        {
          "output_type": "execute_result",
          "data": {
            "text/plain": [
              "[1.0686291456222534, 0.5308333039283752]"
            ]
          },
          "metadata": {},
          "execution_count": 24
        }
      ]
    },
    {
      "cell_type": "markdown",
      "metadata": {
        "id": "rBRjiDO8M8Jm"
      },
      "source": [
        "## Conv1D 기반의 classifier(TextCNN)"
      ]
    },
    {
      "cell_type": "code",
      "metadata": {
        "id": "mvB-h5MrIxV0"
      },
      "source": [
        "model2 = tf.keras.Sequential()\n",
        "model2.add(Embedding(vocab_size, 128, input_length=maxlen))\n",
        "model2.add(tf.keras.layers.Conv1D(32, 7, activation='relu'))\n",
        "model2.add(tf.keras.layers.MaxPooling1D(5))\n",
        "model2.add(tf.keras.layers.Conv1D(32, 7, activation='relu'))\n",
        "model2.add(tf.keras.layers.MaxPooling1D())\n",
        "model2.add(tf.keras.layers.Conv1D(32, 7, activation='relu'))\n",
        "model2.add(tf.keras.layers.MaxPooling1D())\n",
        "model2.add(GlobalAveragePooling1D())\n",
        "model2.add(Dense(3))\n",
        "\n",
        "model2.compile(loss=tf.keras.losses.CategoricalCrossentropy(from_logits=True),\n",
        "              optimizer=tf.keras.optimizers.Adam(1e-4),\n",
        "              metrics=['accuracy'])"
      ],
      "execution_count": null,
      "outputs": []
    },
    {
      "cell_type": "code",
      "metadata": {
        "colab": {
          "base_uri": "https://localhost:8080/"
        },
        "id": "Z9Zzp5_qXteU",
        "outputId": "e875955a-9567-4282-f421-f40fe338047a"
      },
      "source": [
        "history2 = model2.fit(x=x_train, y=y_train_categorical, validation_data=(x_val, y_val_categorical), epochs=10)"
      ],
      "execution_count": null,
      "outputs": [
        {
          "output_type": "stream",
          "name": "stdout",
          "text": [
            "Epoch 1/10\n",
            "300/300 [==============================] - 16s 5ms/step - loss: 1.0952 - accuracy: 0.3706 - val_loss: 1.0881 - val_accuracy: 0.3692\n",
            "Epoch 2/10\n",
            "300/300 [==============================] - 1s 4ms/step - loss: 1.0768 - accuracy: 0.4231 - val_loss: 1.0664 - val_accuracy: 0.4308\n",
            "Epoch 3/10\n",
            "300/300 [==============================] - 1s 4ms/step - loss: 1.0432 - accuracy: 0.4480 - val_loss: 1.0268 - val_accuracy: 0.4667\n",
            "Epoch 4/10\n",
            "300/300 [==============================] - 1s 4ms/step - loss: 0.9451 - accuracy: 0.5241 - val_loss: 0.9288 - val_accuracy: 0.5517\n",
            "Epoch 5/10\n",
            "300/300 [==============================] - 1s 4ms/step - loss: 0.7863 - accuracy: 0.6154 - val_loss: 0.8546 - val_accuracy: 0.5875\n",
            "Epoch 6/10\n",
            "300/300 [==============================] - 1s 4ms/step - loss: 0.6581 - accuracy: 0.6844 - val_loss: 0.8544 - val_accuracy: 0.5967\n",
            "Epoch 7/10\n",
            "300/300 [==============================] - 1s 4ms/step - loss: 0.5713 - accuracy: 0.7320 - val_loss: 0.8707 - val_accuracy: 0.6142\n",
            "Epoch 8/10\n",
            "300/300 [==============================] - 1s 4ms/step - loss: 0.5013 - accuracy: 0.7758 - val_loss: 0.9307 - val_accuracy: 0.6058\n",
            "Epoch 9/10\n",
            "300/300 [==============================] - 1s 4ms/step - loss: 0.4406 - accuracy: 0.8138 - val_loss: 1.0487 - val_accuracy: 0.5917\n",
            "Epoch 10/10\n",
            "300/300 [==============================] - 1s 4ms/step - loss: 0.3822 - accuracy: 0.8490 - val_loss: 1.1356 - val_accuracy: 0.6025\n"
          ]
        }
      ]
    },
    {
      "cell_type": "code",
      "metadata": {
        "colab": {
          "base_uri": "https://localhost:8080/"
        },
        "id": "bAa7IbjAIxTE",
        "outputId": "2aaa0709-db8b-41d3-cf83-6ed7ed9e4b1f"
      },
      "source": [
        "model2.evaluate(x_test, y_test_categorical)"
      ],
      "execution_count": null,
      "outputs": [
        {
          "output_type": "stream",
          "name": "stdout",
          "text": [
            "38/38 [==============================] - 0s 2ms/step - loss: 1.1994 - accuracy: 0.5925\n"
          ]
        },
        {
          "output_type": "execute_result",
          "data": {
            "text/plain": [
              "[1.1993823051452637, 0.5924999713897705]"
            ]
          },
          "metadata": {},
          "execution_count": 27
        }
      ]
    },
    {
      "cell_type": "markdown",
      "metadata": {
        "id": "1nafqZz3x6Me"
      },
      "source": [
        "## LSTM 기반의 classifier"
      ]
    },
    {
      "cell_type": "code",
      "metadata": {
        "colab": {
          "base_uri": "https://localhost:8080/"
        },
        "id": "_TyTKj2Rx6q4",
        "outputId": "30766bbe-8056-41ce-de9e-b8d373724348"
      },
      "source": [
        "model3 = tf.keras.Sequential()\n",
        "model3.add(Embedding(vocab_size, 64, input_length=maxlen))\n",
        "model3.add(tf.keras.layers.Bidirectional(tf.keras.layers.LSTM(32, return_sequences=True, activation='relu')))\n",
        "model3.add(tf.keras.layers.Bidirectional(tf.keras.layers.LSTM(16, activation='relu')))\n",
        "model3.add(tf.keras.layers.Dense(8, activation='relu'))\n",
        "model3.add(tf.keras.layers.Dense(3))\n",
        "\n",
        "model3.compile(loss=tf.keras.losses.CategoricalCrossentropy(from_logits=True),\n",
        "              optimizer=tf.keras.optimizers.Adam(1e-4),\n",
        "              metrics=['accuracy'])\n",
        "\n",
        "history3 = model3.fit(x=x_train, y=y_train_categorical, validation_data=(x_val, y_val_categorical), epochs=4)"
      ],
      "execution_count": null,
      "outputs": [
        {
          "output_type": "stream",
          "name": "stdout",
          "text": [
            "WARNING:tensorflow:Layer lstm will not use cuDNN kernels since it doesn't meet the criteria. It will use a generic GPU kernel as fallback when running on GPU.\n"
          ]
        },
        {
          "output_type": "stream",
          "name": "stderr",
          "text": [
            "WARNING:tensorflow:Layer lstm will not use cuDNN kernels since it doesn't meet the criteria. It will use a generic GPU kernel as fallback when running on GPU.\n"
          ]
        },
        {
          "output_type": "stream",
          "name": "stdout",
          "text": [
            "WARNING:tensorflow:Layer lstm will not use cuDNN kernels since it doesn't meet the criteria. It will use a generic GPU kernel as fallback when running on GPU.\n"
          ]
        },
        {
          "output_type": "stream",
          "name": "stderr",
          "text": [
            "WARNING:tensorflow:Layer lstm will not use cuDNN kernels since it doesn't meet the criteria. It will use a generic GPU kernel as fallback when running on GPU.\n"
          ]
        },
        {
          "output_type": "stream",
          "name": "stdout",
          "text": [
            "WARNING:tensorflow:Layer lstm will not use cuDNN kernels since it doesn't meet the criteria. It will use a generic GPU kernel as fallback when running on GPU.\n"
          ]
        },
        {
          "output_type": "stream",
          "name": "stderr",
          "text": [
            "WARNING:tensorflow:Layer lstm will not use cuDNN kernels since it doesn't meet the criteria. It will use a generic GPU kernel as fallback when running on GPU.\n"
          ]
        },
        {
          "output_type": "stream",
          "name": "stdout",
          "text": [
            "WARNING:tensorflow:Layer lstm_1 will not use cuDNN kernels since it doesn't meet the criteria. It will use a generic GPU kernel as fallback when running on GPU.\n"
          ]
        },
        {
          "output_type": "stream",
          "name": "stderr",
          "text": [
            "WARNING:tensorflow:Layer lstm_1 will not use cuDNN kernels since it doesn't meet the criteria. It will use a generic GPU kernel as fallback when running on GPU.\n"
          ]
        },
        {
          "output_type": "stream",
          "name": "stdout",
          "text": [
            "WARNING:tensorflow:Layer lstm_1 will not use cuDNN kernels since it doesn't meet the criteria. It will use a generic GPU kernel as fallback when running on GPU.\n"
          ]
        },
        {
          "output_type": "stream",
          "name": "stderr",
          "text": [
            "WARNING:tensorflow:Layer lstm_1 will not use cuDNN kernels since it doesn't meet the criteria. It will use a generic GPU kernel as fallback when running on GPU.\n"
          ]
        },
        {
          "output_type": "stream",
          "name": "stdout",
          "text": [
            "WARNING:tensorflow:Layer lstm_1 will not use cuDNN kernels since it doesn't meet the criteria. It will use a generic GPU kernel as fallback when running on GPU.\n"
          ]
        },
        {
          "output_type": "stream",
          "name": "stderr",
          "text": [
            "WARNING:tensorflow:Layer lstm_1 will not use cuDNN kernels since it doesn't meet the criteria. It will use a generic GPU kernel as fallback when running on GPU.\n"
          ]
        },
        {
          "output_type": "stream",
          "name": "stdout",
          "text": [
            "Epoch 1/4\n",
            "300/300 [==============================] - 164s 538ms/step - loss: 1.0970 - accuracy: 0.3441 - val_loss: 1.0928 - val_accuracy: 0.4008\n",
            "Epoch 2/4\n",
            "300/300 [==============================] - 160s 535ms/step - loss: 1.0821 - accuracy: 0.4080 - val_loss: 1.0715 - val_accuracy: 0.4450\n",
            "Epoch 3/4\n",
            "300/300 [==============================] - 159s 529ms/step - loss: 1.0654 - accuracy: 0.4652 - val_loss: 1.0571 - val_accuracy: 0.4725\n",
            "Epoch 4/4\n",
            "300/300 [==============================] - 158s 526ms/step - loss: 1.0349 - accuracy: 0.4943 - val_loss: 1.0384 - val_accuracy: 0.5083\n"
          ]
        }
      ]
    },
    {
      "cell_type": "code",
      "metadata": {
        "colab": {
          "base_uri": "https://localhost:8080/"
        },
        "id": "CTJBD1q5yEFB",
        "outputId": "682a80c5-f501-45bc-c851-6e3399150c26"
      },
      "source": [
        "model3.evaluate(x_test, y_test_categorical)"
      ],
      "execution_count": null,
      "outputs": [
        {
          "output_type": "stream",
          "name": "stdout",
          "text": [
            "38/38 [==============================] - 3s 85ms/step - loss: 1.0449 - accuracy: 0.4900\n"
          ]
        },
        {
          "output_type": "execute_result",
          "data": {
            "text/plain": [
              "[1.0449280738830566, 0.49000000953674316]"
            ]
          },
          "metadata": {},
          "execution_count": 29
        }
      ]
    },
    {
      "cell_type": "code",
      "metadata": {
        "id": "cLS8iOSeyFgT"
      },
      "source": [
        "model3.predict(x_test)"
      ],
      "execution_count": null,
      "outputs": []
    }
  ]
}